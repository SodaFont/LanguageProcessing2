{
 "cells": [
  {
   "cell_type": "code",
   "execution_count": 4,
   "id": "6831ceca",
   "metadata": {
    "executionInfo": {
     "elapsed": 3432,
     "status": "ok",
     "timestamp": 1654880674032,
     "user": {
      "displayName": "Bin Zhang",
      "userId": "18074978445655950259"
     },
     "user_tz": -120
    },
    "id": "6831ceca"
   },
   "outputs": [],
   "source": [
    "import pandas as pd\n",
    "import numpy as np\n",
    "import os\n",
    "import emoji\n",
    "import nltk\n",
    "import re\n",
    "import string\n",
    "import nltk\n",
    "import matplotlib.pyplot as plt\n",
    "from nltk.tokenize import word_tokenize\n",
    "from nltk.corpus import stopwords\n",
    "from tensorflow.keras.preprocessing.text import Tokenizer\n",
    "from tensorflow.keras.preprocessing.sequence import pad_sequences\n",
    "from nltk.tokenize import TweetTokenizer\n",
    "from sklearn.metrics import precision_score, recall_score, f1_score\n",
    "from sklearn.ensemble import RandomForestClassifier\n",
    "from sklearn.metrics import accuracy_score\n",
    "from sklearn.feature_extraction.text import TfidfVectorizer\n",
    "from sklearn.metrics import classification_report\n",
    "from sklearn.model_selection import train_test_split"
   ]
  },
  {
   "cell_type": "code",
   "execution_count": 5,
   "id": "BTAz59J53v47",
   "metadata": {
    "executionInfo": {
     "elapsed": 2,
     "status": "ok",
     "timestamp": 1654880674032,
     "user": {
      "displayName": "Bin Zhang",
      "userId": "18074978445655950259"
     },
     "user_tz": -120
    },
    "id": "BTAz59J53v47"
   },
   "outputs": [],
   "source": [
    "# Modeling\n",
    "from sklearn.model_selection import KFold, cross_val_score, GridSearchCV \n",
    "from sklearn.model_selection import train_test_split\n",
    "from sklearn.feature_extraction.text import TfidfVectorizer\n",
    "from imblearn.over_sampling import SMOTE\n",
    "from sklearn.svm import LinearSVC\n",
    "from sklearn.naive_bayes import MultinomialNB\n",
    "from sklearn.ensemble import RandomForestClassifier, AdaBoostClassifier\n",
    "from sklearn.ensemble import GradientBoostingClassifier\n",
    "from xgboost import XGBClassifier\n",
    "from sklearn.metrics import confusion_matrix, classification_report\n",
    "from sklearn.metrics import accuracy_score, plot_confusion_matrix\n",
    "from sklearn.pipeline import Pipeline\n",
    "from sklearn.preprocessing import LabelEncoder, MinMaxScaler"
   ]
  },
  {
   "cell_type": "code",
   "execution_count": 6,
   "id": "WYp8ha-i5cw0",
   "metadata": {
    "executionInfo": {
     "elapsed": 317,
     "status": "ok",
     "timestamp": 1654880676123,
     "user": {
      "displayName": "Bin Zhang",
      "userId": "18074978445655950259"
     },
     "user_tz": -120
    },
    "id": "WYp8ha-i5cw0"
   },
   "outputs": [],
   "source": [
    "import tensorflow as tf\n",
    "from tensorflow.keras.preprocessing.text import Tokenizer\n",
    "from tensorflow.keras.preprocessing.sequence import pad_sequences\n",
    "from keras.models import Sequential\n",
    "from keras.layers import Dense, Embedding, GRU, LSTM, Bidirectional\n",
    "from keras.layers.embeddings import Embedding\n",
    "from keras.initializers import Constant\n",
    "from keras.callbacks import ModelCheckpoint\n",
    "from keras.models import load_model"
   ]
  },
  {
   "cell_type": "code",
   "execution_count": 7,
   "id": "c898363e",
   "metadata": {
    "executionInfo": {
     "elapsed": 847,
     "status": "ok",
     "timestamp": 1654880692657,
     "user": {
      "displayName": "Bin Zhang",
      "userId": "18074978445655950259"
     },
     "user_tz": -120
    },
    "id": "c898363e"
   },
   "outputs": [],
   "source": [
    "data = pd.read_csv('data10.csv')"
   ]
  },
  {
   "cell_type": "code",
   "execution_count": null,
   "id": "3e85ca34",
   "metadata": {
    "colab": {
     "base_uri": "https://localhost:8080/",
     "height": 206
    },
    "executionInfo": {
     "elapsed": 419,
     "status": "ok",
     "timestamp": 1654773061075,
     "user": {
      "displayName": "Bin Zhang",
      "userId": "18074978445655950259"
     },
     "user_tz": -120
    },
    "id": "3e85ca34",
    "outputId": "7f9decdb-058f-4760-d229-572123b6f569"
   },
   "outputs": [
    {
     "data": {
      "text/html": [
       "\n",
       "  <div id=\"df-94b47822-9b6b-4503-90e4-1b09c46e310b\">\n",
       "    <div class=\"colab-df-container\">\n",
       "      <div>\n",
       "<style scoped>\n",
       "    .dataframe tbody tr th:only-of-type {\n",
       "        vertical-align: middle;\n",
       "    }\n",
       "\n",
       "    .dataframe tbody tr th {\n",
       "        vertical-align: top;\n",
       "    }\n",
       "\n",
       "    .dataframe thead th {\n",
       "        text-align: right;\n",
       "    }\n",
       "</style>\n",
       "<table border=\"1\" class=\"dataframe\">\n",
       "  <thead>\n",
       "    <tr style=\"text-align: right;\">\n",
       "      <th></th>\n",
       "      <th>writer</th>\n",
       "      <th>doc</th>\n",
       "      <th>is_irony</th>\n",
       "    </tr>\n",
       "  </thead>\n",
       "  <tbody>\n",
       "    <tr>\n",
       "      <th>0</th>\n",
       "      <td>88d4d2c7da1c10784ab578fd7b3725c5</td>\n",
       "      <td>['\"Nearly 1 in 3 LGBTQ people live in the Sout...</td>\n",
       "      <td>0</td>\n",
       "    </tr>\n",
       "    <tr>\n",
       "      <th>1</th>\n",
       "      <td>19af9106baf2208c9eef017ef6002996</td>\n",
       "      <td>['#USER# Chloe\\'s done amazing things for tran...</td>\n",
       "      <td>0</td>\n",
       "    </tr>\n",
       "    <tr>\n",
       "      <th>2</th>\n",
       "      <td>84c6db87916b5de77e53444c1e3a15be</td>\n",
       "      <td>['#USER# You, as ladies, were actually sown in...</td>\n",
       "      <td>1</td>\n",
       "    </tr>\n",
       "    <tr>\n",
       "      <th>3</th>\n",
       "      <td>2b3a0410dba9d6a04e903f459e511648</td>\n",
       "      <td>['#USER# #USER# I was also hoping he\\'d run th...</td>\n",
       "      <td>0</td>\n",
       "    </tr>\n",
       "    <tr>\n",
       "      <th>4</th>\n",
       "      <td>6782740a7a7210777f6b76835219e0d3</td>\n",
       "      <td>['#USER#  How many likes do you need for us to...</td>\n",
       "      <td>0</td>\n",
       "    </tr>\n",
       "  </tbody>\n",
       "</table>\n",
       "</div>\n",
       "      <button class=\"colab-df-convert\" onclick=\"convertToInteractive('df-94b47822-9b6b-4503-90e4-1b09c46e310b')\"\n",
       "              title=\"Convert this dataframe to an interactive table.\"\n",
       "              style=\"display:none;\">\n",
       "        \n",
       "  <svg xmlns=\"http://www.w3.org/2000/svg\" height=\"24px\"viewBox=\"0 0 24 24\"\n",
       "       width=\"24px\">\n",
       "    <path d=\"M0 0h24v24H0V0z\" fill=\"none\"/>\n",
       "    <path d=\"M18.56 5.44l.94 2.06.94-2.06 2.06-.94-2.06-.94-.94-2.06-.94 2.06-2.06.94zm-11 1L8.5 8.5l.94-2.06 2.06-.94-2.06-.94L8.5 2.5l-.94 2.06-2.06.94zm10 10l.94 2.06.94-2.06 2.06-.94-2.06-.94-.94-2.06-.94 2.06-2.06.94z\"/><path d=\"M17.41 7.96l-1.37-1.37c-.4-.4-.92-.59-1.43-.59-.52 0-1.04.2-1.43.59L10.3 9.45l-7.72 7.72c-.78.78-.78 2.05 0 2.83L4 21.41c.39.39.9.59 1.41.59.51 0 1.02-.2 1.41-.59l7.78-7.78 2.81-2.81c.8-.78.8-2.07 0-2.86zM5.41 20L4 18.59l7.72-7.72 1.47 1.35L5.41 20z\"/>\n",
       "  </svg>\n",
       "      </button>\n",
       "      \n",
       "  <style>\n",
       "    .colab-df-container {\n",
       "      display:flex;\n",
       "      flex-wrap:wrap;\n",
       "      gap: 12px;\n",
       "    }\n",
       "\n",
       "    .colab-df-convert {\n",
       "      background-color: #E8F0FE;\n",
       "      border: none;\n",
       "      border-radius: 50%;\n",
       "      cursor: pointer;\n",
       "      display: none;\n",
       "      fill: #1967D2;\n",
       "      height: 32px;\n",
       "      padding: 0 0 0 0;\n",
       "      width: 32px;\n",
       "    }\n",
       "\n",
       "    .colab-df-convert:hover {\n",
       "      background-color: #E2EBFA;\n",
       "      box-shadow: 0px 1px 2px rgba(60, 64, 67, 0.3), 0px 1px 3px 1px rgba(60, 64, 67, 0.15);\n",
       "      fill: #174EA6;\n",
       "    }\n",
       "\n",
       "    [theme=dark] .colab-df-convert {\n",
       "      background-color: #3B4455;\n",
       "      fill: #D2E3FC;\n",
       "    }\n",
       "\n",
       "    [theme=dark] .colab-df-convert:hover {\n",
       "      background-color: #434B5C;\n",
       "      box-shadow: 0px 1px 3px 1px rgba(0, 0, 0, 0.15);\n",
       "      filter: drop-shadow(0px 1px 2px rgba(0, 0, 0, 0.3));\n",
       "      fill: #FFFFFF;\n",
       "    }\n",
       "  </style>\n",
       "\n",
       "      <script>\n",
       "        const buttonEl =\n",
       "          document.querySelector('#df-94b47822-9b6b-4503-90e4-1b09c46e310b button.colab-df-convert');\n",
       "        buttonEl.style.display =\n",
       "          google.colab.kernel.accessAllowed ? 'block' : 'none';\n",
       "\n",
       "        async function convertToInteractive(key) {\n",
       "          const element = document.querySelector('#df-94b47822-9b6b-4503-90e4-1b09c46e310b');\n",
       "          const dataTable =\n",
       "            await google.colab.kernel.invokeFunction('convertToInteractive',\n",
       "                                                     [key], {});\n",
       "          if (!dataTable) return;\n",
       "\n",
       "          const docLinkHtml = 'Like what you see? Visit the ' +\n",
       "            '<a target=\"_blank\" href=https://colab.research.google.com/notebooks/data_table.ipynb>data table notebook</a>'\n",
       "            + ' to learn more about interactive tables.';\n",
       "          element.innerHTML = '';\n",
       "          dataTable['output_type'] = 'display_data';\n",
       "          await google.colab.output.renderOutput(dataTable, element);\n",
       "          const docLink = document.createElement('div');\n",
       "          docLink.innerHTML = docLinkHtml;\n",
       "          element.appendChild(docLink);\n",
       "        }\n",
       "      </script>\n",
       "    </div>\n",
       "  </div>\n",
       "  "
      ],
      "text/plain": [
       "                             writer  \\\n",
       "0  88d4d2c7da1c10784ab578fd7b3725c5   \n",
       "1  19af9106baf2208c9eef017ef6002996   \n",
       "2  84c6db87916b5de77e53444c1e3a15be   \n",
       "3  2b3a0410dba9d6a04e903f459e511648   \n",
       "4  6782740a7a7210777f6b76835219e0d3   \n",
       "\n",
       "                                                 doc  is_irony  \n",
       "0  ['\"Nearly 1 in 3 LGBTQ people live in the Sout...         0  \n",
       "1  ['#USER# Chloe\\'s done amazing things for tran...         0  \n",
       "2  ['#USER# You, as ladies, were actually sown in...         1  \n",
       "3  ['#USER# #USER# I was also hoping he\\'d run th...         0  \n",
       "4  ['#USER#  How many likes do you need for us to...         0  "
      ]
     },
     "execution_count": 7,
     "metadata": {},
     "output_type": "execute_result"
    }
   ],
   "source": [
    "data.head()"
   ]
  },
  {
   "cell_type": "code",
   "execution_count": 8,
   "id": "73d2f34c",
   "metadata": {
    "colab": {
     "base_uri": "https://localhost:8080/"
    },
    "executionInfo": {
     "elapsed": 733,
     "status": "ok",
     "timestamp": 1654880697883,
     "user": {
      "displayName": "Bin Zhang",
      "userId": "18074978445655950259"
     },
     "user_tz": -120
    },
    "id": "73d2f34c",
    "outputId": "fe4c1396-e593-45aa-9be8-120c1919c151"
   },
   "outputs": [
    {
     "name": "stdout",
     "output_type": "stream",
     "text": [
      "[nltk_data] Downloading package punkt to /root/nltk_data...\n",
      "[nltk_data]   Unzipping tokenizers/punkt.zip.\n",
      "[nltk_data] Downloading package stopwords to /root/nltk_data...\n",
      "[nltk_data]   Unzipping corpora/stopwords.zip.\n"
     ]
    },
    {
     "data": {
      "text/plain": [
       "True"
      ]
     },
     "execution_count": 8,
     "metadata": {},
     "output_type": "execute_result"
    }
   ],
   "source": [
    "nltk.download('punkt')\n",
    "nltk.download('stopwords')"
   ]
  },
  {
   "cell_type": "code",
   "execution_count": 9,
   "id": "1674c99e",
   "metadata": {
    "executionInfo": {
     "elapsed": 528,
     "status": "ok",
     "timestamp": 1654880703189,
     "user": {
      "displayName": "Bin Zhang",
      "userId": "18074978445655950259"
     },
     "user_tz": -120
    },
    "id": "1674c99e"
   },
   "outputs": [],
   "source": [
    "def text_clean(text):\n",
    "    text = text.lower()\n",
    "    # clean the \n",
    "    emoji = re.compile(\"[\"\n",
    "                               u\"\\U0001F600-\\U0001F64F\"  # emoticons\n",
    "                               u\"\\U0001F300-\\U0001F5FF\"  # symbols & pictographs\n",
    "                               u\"\\U0001F680-\\U0001F6FF\"  # transport & map symbols\n",
    "                               u\"\\U0001F1E0-\\U0001F1FF\"  # flags (iOS)\n",
    "                               u\"\\U00002500-\\U00002BEF\"  # chinese char\n",
    "                               u\"\\U00002702-\\U000027B0\"\n",
    "                               u\"\\U00002702-\\U000027B0\"\n",
    "                               u\"\\U000024C2-\\U0001F251\"\n",
    "                               u\"\\U0001f926-\\U0001f937\"\n",
    "                               u\"\\U00010000-\\U0010ffff\"\n",
    "                               u\"\\u2640-\\u2642\"\n",
    "                               u\"\\u2600-\\u2B55\"\n",
    "                               u\"\\u200d\"\n",
    "                               u\"\\u23cf\"\n",
    "                               u\"\\u23e9\"\n",
    "                               u\"\\u231a\"\n",
    "                               u\"\\ufe0f\"  # dingbats\n",
    "                               u\"\\u3030\"\n",
    "                               \"]+\", flags=re.UNICODE)\n",
    "    text = emoji.sub(r'', text)\n",
    "    text = text.lower()\n",
    "    text = re.sub(r\"hashtag\", \"\", text)\n",
    "    text = re.sub(r\"url\", \"\", text)\n",
    "    text = re.sub(r\"user\", \"\", text)\n",
    "    text = re.sub(r\"i'm\", \"i am\", text)\n",
    "    text = re.sub(r\"he's\", \"he is\", text)\n",
    "    text = re.sub(r\"she's\", \"she is\", text)\n",
    "    text = re.sub(r\"that's\", \"that is\", text)        \n",
    "    text = re.sub(r\"what's\", \"what is\", text)\n",
    "    text = re.sub(r\"where's\", \"where is\", text) \n",
    "    text = re.sub(r\"\\'ll\", \" will\", text)  \n",
    "    text = re.sub(r\"\\'ve\", \" have\", text)  \n",
    "    text = re.sub(r\"\\'re\", \" are\", text)\n",
    "    text = re.sub(r\"\\'d\", \" would\", text)\n",
    "    text = re.sub(r\"won't\", \"will not\", text)\n",
    "    text = re.sub(r\"don't\", \"do not\", text)\n",
    "    text = re.sub(r\"didn't\", \"did not\", text)\n",
    "    text = re.sub(r\"can't\", \"cannot\", text)\n",
    "    text = re.sub(r\"it's\", \"it is\", text)\n",
    "    text = re.sub(r\"couldn't\", \"could not\", text)\n",
    "    text = re.sub(r\"haven't\", \"have not\", text)\n",
    "    text = re.sub(r\"[,.\\\"\\'!@#$%^&*(){}?/;`~:<>+=-]\", \"\", text)\n",
    "    return text"
   ]
  },
  {
   "cell_type": "code",
   "execution_count": 10,
   "id": "8e124658",
   "metadata": {
    "executionInfo": {
     "elapsed": 325,
     "status": "ok",
     "timestamp": 1654880707283,
     "user": {
      "displayName": "Bin Zhang",
      "userId": "18074978445655950259"
     },
     "user_tz": -120
    },
    "id": "8e124658"
   },
   "outputs": [],
   "source": [
    "def CleanTokenize(df):\n",
    "    doc_processed = list()\n",
    "    lines = df[\"doc\"].values.tolist()\n",
    "\n",
    "    for line in lines:\n",
    "        line = text_clean(line)\n",
    "        # tokenize the text\n",
    "        tokens = word_tokenize(line)\n",
    "        # remove puntuations\n",
    "        table = str.maketrans('', '', string.punctuation)\n",
    "        stripped = [w.translate(table) for w in tokens]\n",
    "        # remove non alphabetic characters\n",
    "        words = [word for word in stripped if word.isalpha()]\n",
    "        stop_words = set(stopwords.words(\"english\"))\n",
    "        # remove stop words\n",
    "        words = [w for w in words if not w in stop_words]\n",
    "        doc_processed.append(words)\n",
    "    return doc_processed"
   ]
  },
  {
   "cell_type": "code",
   "execution_count": 12,
   "id": "d2427a4a",
   "metadata": {
    "executionInfo": {
     "elapsed": 8980,
     "status": "ok",
     "timestamp": 1654880752364,
     "user": {
      "displayName": "Bin Zhang",
      "userId": "18074978445655950259"
     },
     "user_tz": -120
    },
    "id": "d2427a4a"
   },
   "outputs": [],
   "source": [
    "doc_processed = CleanTokenize(data)\n",
    "# doc_processed[0:10]"
   ]
  },
  {
   "cell_type": "markdown",
   "id": "811be548",
   "metadata": {
    "id": "811be548"
   },
   "source": [
    "Embedding texts_to_sequences"
   ]
  },
  {
   "cell_type": "code",
   "execution_count": null,
   "id": "bcd778c3",
   "metadata": {
    "colab": {
     "base_uri": "https://localhost:8080/"
    },
    "executionInfo": {
     "elapsed": 4788,
     "status": "ok",
     "timestamp": 1654795494792,
     "user": {
      "displayName": "Bin Zhang",
      "userId": "18074978445655950259"
     },
     "user_tz": -120
    },
    "id": "bcd778c3",
    "outputId": "9aa7a5a7-74d7-4822-ead1-79c553c49c6a"
   },
   "outputs": [
    {
     "name": "stdout",
     "output_type": "stream",
     "text": [
      "unique tokens -  102746\n",
      "vocab size - 102747\n"
     ]
    }
   ],
   "source": [
    "train_split = 0.8\n",
    "# val_split = 0.2\n",
    "max_length = 10000\n",
    "\n",
    "# tokenize\n",
    "tokenizer_obj = Tokenizer()\n",
    "tokenizer_obj.fit_on_texts(doc_processed)\n",
    "sequences = tokenizer_obj.texts_to_sequences(doc_processed)\n",
    "\n",
    "word_index = tokenizer_obj.word_index\n",
    "print(\"unique tokens - \",len(word_index))\n",
    "vocab_size = len(tokenizer_obj.word_index) + 1\n",
    "print('vocab size -', vocab_size)\n",
    "\n",
    "lines_pad = pad_sequences(sequences, maxlen=max_length, padding='post')\n",
    "sentiment =  data['is_irony'].values\n",
    "\n",
    "indices = np.arange(lines_pad.shape[0])\n",
    "np.random.shuffle(indices)\n",
    "lines_pad = lines_pad[indices]\n",
    "sentiment = sentiment[indices]\n",
    "\n",
    "train_samples = int(train_split * lines_pad.shape[0])\n",
    "# test_samples = int(lines_pad.shape[0] * (train_split + val_split))\n",
    "\n",
    "X_train = lines_pad[:train_samples]\n",
    "y_train = sentiment[:train_samples]\n",
    "X_test = lines_pad[train_samples:]\n",
    "y_test = sentiment[train_samples:]"
   ]
  },
  {
   "cell_type": "markdown",
   "id": "fXDfp43gDnjn",
   "metadata": {
    "id": "fXDfp43gDnjn"
   },
   "source": [
    "Random Forest"
   ]
  },
  {
   "cell_type": "code",
   "execution_count": null,
   "id": "ed2e04ea",
   "metadata": {
    "colab": {
     "base_uri": "https://localhost:8080/"
    },
    "executionInfo": {
     "elapsed": 1555,
     "status": "ok",
     "timestamp": 1654723509273,
     "user": {
      "displayName": "Bin Zhang",
      "userId": "18074978445655950259"
     },
     "user_tz": -120
    },
    "id": "ed2e04ea",
    "outputId": "298d6286-db79-4f8f-b633-f07f815b6023"
   },
   "outputs": [
    {
     "name": "stdout",
     "output_type": "stream",
     "text": [
      "accuracy:  0.4642857142857143\n",
      "              precision    recall  f1-score   support\n",
      "\n",
      "           0       0.49      0.39      0.43        44\n",
      "           1       0.45      0.55      0.49        40\n",
      "\n",
      "    accuracy                           0.46        84\n",
      "   macro avg       0.47      0.47      0.46        84\n",
      "weighted avg       0.47      0.46      0.46        84\n",
      "\n"
     ]
    }
   ],
   "source": [
    "rfc = RandomForestClassifier(n_estimators=500,random_state=2022)\n",
    "rfc.fit(X_train_pad,y_train)\n",
    "preds = rfc.predict(X_test_pad)\n",
    "print('accuracy: ', accuracy_score(y_test,preds))\n",
    "print(classification_report(y_test,preds))"
   ]
  },
  {
   "cell_type": "code",
   "execution_count": null,
   "id": "GkbnhYfQLhjn",
   "metadata": {
    "colab": {
     "base_uri": "https://localhost:8080/"
    },
    "executionInfo": {
     "elapsed": 462,
     "status": "ok",
     "timestamp": 1654773092553,
     "user": {
      "displayName": "Bin Zhang",
      "userId": "18074978445655950259"
     },
     "user_tz": -120
    },
    "id": "GkbnhYfQLhjn",
    "outputId": "73109080-cba8-4976-fe24-f4eca392adfd"
   },
   "outputs": [
    {
     "data": {
      "text/plain": [
       "0.8"
      ]
     },
     "execution_count": 13,
     "metadata": {},
     "output_type": "execute_result"
    }
   ],
   "source": [
    "rf_seq = RandomForestClassifier(random_state=1)\n",
    "rf_seq.fit(X_train, y_train)\n",
    "y_hat_test = rf_seq.predict(X_test)\n",
    "rf_seq_test_acc = round(accuracy_score(y_test, y_hat_test), 2)\n",
    "rf_seq_test_acc"
   ]
  },
  {
   "cell_type": "markdown",
   "id": "I82xCkq1MJDL",
   "metadata": {
    "id": "I82xCkq1MJDL"
   },
   "source": [
    "LinearSVC Classifier"
   ]
  },
  {
   "cell_type": "code",
   "execution_count": null,
   "id": "hq2GRXLiLhhh",
   "metadata": {
    "id": "hq2GRXLiLhhh"
   },
   "outputs": [],
   "source": []
  },
  {
   "cell_type": "code",
   "execution_count": null,
   "id": "C07zi8R6Lhew",
   "metadata": {
    "colab": {
     "base_uri": "https://localhost:8080/"
    },
    "executionInfo": {
     "elapsed": 348,
     "status": "ok",
     "timestamp": 1654773103293,
     "user": {
      "displayName": "Bin Zhang",
      "userId": "18074978445655950259"
     },
     "user_tz": -120
    },
    "id": "C07zi8R6Lhew",
    "outputId": "96050001-7cd9-4445-ca78-ec409b27aa34"
   },
   "outputs": [
    {
     "data": {
      "text/plain": [
       "0.62"
      ]
     },
     "execution_count": 14,
     "metadata": {},
     "output_type": "execute_result"
    }
   ],
   "source": [
    "# Instantiate classifier, fit, and predict on test data\n",
    "\n",
    "svm_seq = LinearSVC(random_state=1, max_iter=10000)\n",
    "svm_seq.fit(X_train, y_train)\n",
    "y_hat_test = svm_seq.predict(X_test)\n",
    "svm_seq_test_acc = round(accuracy_score(y_test, y_hat_test), 2)\n",
    "svm_seq_test_acc"
   ]
  },
  {
   "cell_type": "markdown",
   "id": "FYyFWoGSMJ4v",
   "metadata": {
    "id": "FYyFWoGSMJ4v"
   },
   "source": [
    "Multinomial Naive Bayes Classifier"
   ]
  },
  {
   "cell_type": "code",
   "execution_count": null,
   "id": "QnHKMX5iLhcT",
   "metadata": {
    "id": "QnHKMX5iLhcT"
   },
   "outputs": [],
   "source": [
    "scaler = MinMaxScaler()\n",
    "X_train_sc = scaler.fit_transform(X_train)\n",
    "X_test_sc = scaler.transform(X_test)"
   ]
  },
  {
   "cell_type": "code",
   "execution_count": null,
   "id": "w8JZzv_ILhZ3",
   "metadata": {
    "id": "w8JZzv_ILhZ3"
   },
   "outputs": [],
   "source": [
    "mnb_seq_clf = MultinomialNB()\n",
    "mnb_seq_clf.fit(X_train_sc, y_train)\n",
    "y_hat_test = mnb_seq_clf.predict(X_test_sc)"
   ]
  },
  {
   "cell_type": "code",
   "execution_count": null,
   "id": "mJyiROz1LhXe",
   "metadata": {
    "colab": {
     "base_uri": "https://localhost:8080/"
    },
    "executionInfo": {
     "elapsed": 2,
     "status": "ok",
     "timestamp": 1654773108123,
     "user": {
      "displayName": "Bin Zhang",
      "userId": "18074978445655950259"
     },
     "user_tz": -120
    },
    "id": "mJyiROz1LhXe",
    "outputId": "ae7ffb71-0cd8-4852-9a5e-5a5de3abb30d"
   },
   "outputs": [
    {
     "data": {
      "text/plain": [
       "0.77"
      ]
     },
     "execution_count": 17,
     "metadata": {},
     "output_type": "execute_result"
    }
   ],
   "source": [
    "mnb_seq_test_acc = round(accuracy_score(y_test, y_hat_test), 2)\n",
    "mnb_seq_test_acc"
   ]
  },
  {
   "cell_type": "markdown",
   "id": "Wb7w-r-FMe-j",
   "metadata": {
    "id": "Wb7w-r-FMe-j"
   },
   "source": [
    "AdaBoost Classifier"
   ]
  },
  {
   "cell_type": "code",
   "execution_count": null,
   "id": "z3xcGqMmLhVu",
   "metadata": {
    "colab": {
     "base_uri": "https://localhost:8080/"
    },
    "executionInfo": {
     "elapsed": 7646,
     "status": "ok",
     "timestamp": 1654773119283,
     "user": {
      "displayName": "Bin Zhang",
      "userId": "18074978445655950259"
     },
     "user_tz": -120
    },
    "id": "z3xcGqMmLhVu",
    "outputId": "0ba54cc4-52c7-4ab7-c04c-df08ceef218f"
   },
   "outputs": [
    {
     "data": {
      "text/plain": [
       "0.69"
      ]
     },
     "execution_count": 18,
     "metadata": {},
     "output_type": "execute_result"
    }
   ],
   "source": [
    "ada_seq_clf = AdaBoostClassifier(random_state=1)\n",
    "ada_seq_clf.fit(X_train, y_train)\n",
    "y_hat_test = ada_seq_clf.predict(X_test)\n",
    "ada_seq_test_acc = round(accuracy_score(y_test, y_hat_test), 2)\n",
    "ada_seq_test_acc"
   ]
  },
  {
   "cell_type": "markdown",
   "id": "DsCESbBIMoLj",
   "metadata": {
    "id": "DsCESbBIMoLj"
   },
   "source": [
    "XGBoost Classifier"
   ]
  },
  {
   "cell_type": "code",
   "execution_count": null,
   "id": "aWBC3rnELhTW",
   "metadata": {
    "colab": {
     "base_uri": "https://localhost:8080/"
    },
    "executionInfo": {
     "elapsed": 13354,
     "status": "ok",
     "timestamp": 1654773135386,
     "user": {
      "displayName": "Bin Zhang",
      "userId": "18074978445655950259"
     },
     "user_tz": -120
    },
    "id": "aWBC3rnELhTW",
    "outputId": "ef4715af-db35-4bac-f886-fdde389935da"
   },
   "outputs": [
    {
     "data": {
      "text/plain": [
       "0.76"
      ]
     },
     "execution_count": 19,
     "metadata": {},
     "output_type": "execute_result"
    }
   ],
   "source": [
    "xgb_seq_clf = XGBClassifier(random_state=1)\n",
    "xgb_seq_clf.fit(X_train, y_train)\n",
    "y_hat_test = xgb_seq_clf.predict(X_test)\n",
    "\n",
    "xgb_seq_test_acc = round(accuracy_score(y_test, y_hat_test), 2)\n",
    "xgb_seq_test_acc"
   ]
  },
  {
   "cell_type": "markdown",
   "id": "bIpIAOKWMx6M",
   "metadata": {
    "id": "bIpIAOKWMx6M"
   },
   "source": [
    "Neural Network"
   ]
  },
  {
   "cell_type": "code",
   "execution_count": null,
   "id": "_2d-2_QqLhRL",
   "metadata": {
    "colab": {
     "base_uri": "https://localhost:8080/"
    },
    "executionInfo": {
     "elapsed": 1722,
     "status": "ok",
     "timestamp": 1654795555474,
     "user": {
      "displayName": "Bin Zhang",
      "userId": "18074978445655950259"
     },
     "user_tz": -120
    },
    "id": "_2d-2_QqLhRL",
    "outputId": "640cff64-a5e4-4c2d-e2a6-53322290b645"
   },
   "outputs": [
    {
     "name": "stdout",
     "output_type": "stream",
     "text": [
      "Epoch 1/3\n",
      "4/4 [==============================] - 1s 70ms/step - loss: 29478.9648 - accuracy: 0.5179 - val_loss: 3679.1216 - val_accuracy: 0.5357\n",
      "Epoch 2/3\n",
      "4/4 [==============================] - 0s 28ms/step - loss: 1207.7065 - accuracy: 0.6577 - val_loss: 588.7953 - val_accuracy: 0.5952\n",
      "Epoch 3/3\n",
      "4/4 [==============================] - 0s 28ms/step - loss: 179.8202 - accuracy: 0.5149 - val_loss: 92.2848 - val_accuracy: 0.5476\n"
     ]
    },
    {
     "data": {
      "text/plain": [
       "<keras.callbacks.History at 0x7f2f63072410>"
      ]
     },
     "execution_count": 26,
     "metadata": {},
     "output_type": "execute_result"
    }
   ],
   "source": [
    "\n",
    "model = Sequential()\n",
    "model.add(Dense(100, input_dim=10000, activation='relu'))\n",
    "model.add(Dense(2, activation='softmax'))\n",
    "\n",
    "# Compile model\n",
    "\n",
    "model.compile(loss='sparse_categorical_crossentropy', optimizer='adam', \n",
    "              metrics=['accuracy'])\n",
    "\n",
    "# Fit to training data\n",
    "model.fit(X_train, y_train, epochs=3, batch_size=100, \n",
    "          validation_data=(X_test, y_test))"
   ]
  },
  {
   "cell_type": "code",
   "execution_count": null,
   "id": "_lrdpyqLLhPP",
   "metadata": {
    "colab": {
     "base_uri": "https://localhost:8080/"
    },
    "executionInfo": {
     "elapsed": 338,
     "status": "ok",
     "timestamp": 1654773165446,
     "user": {
      "displayName": "Bin Zhang",
      "userId": "18074978445655950259"
     },
     "user_tz": -120
    },
    "id": "_lrdpyqLLhPP",
    "outputId": "4dc9d672-6825-484e-e9da-5b223b2e8f92"
   },
   "outputs": [
    {
     "data": {
      "text/plain": [
       "0.74"
      ]
     },
     "execution_count": 22,
     "metadata": {},
     "output_type": "execute_result"
    }
   ],
   "source": [
    "#Predictions\n",
    "y_hat_test = np.argmax(model.predict(X_test), axis=-1)\n",
    "nn_seq_test_acc = round(accuracy_score(y_test, y_hat_test), 2)\n",
    "nn_seq_test_acc"
   ]
  },
  {
   "cell_type": "code",
   "execution_count": null,
   "id": "QI-duy5-LhNh",
   "metadata": {
    "id": "QI-duy5-LhNh"
   },
   "outputs": [],
   "source": []
  },
  {
   "cell_type": "markdown",
   "id": "FBfSrF76N59x",
   "metadata": {
    "id": "FBfSrF76N59x"
   },
   "source": [
    "Summary"
   ]
  },
  {
   "cell_type": "code",
   "execution_count": null,
   "id": "7IVcqZFDLhLH",
   "metadata": {
    "colab": {
     "base_uri": "https://localhost:8080/",
     "height": 238
    },
    "executionInfo": {
     "elapsed": 355,
     "status": "ok",
     "timestamp": 1654773177911,
     "user": {
      "displayName": "Bin Zhang",
      "userId": "18074978445655950259"
     },
     "user_tz": -120
    },
    "id": "7IVcqZFDLhLH",
    "outputId": "3afce9bd-03a5-4e30-e889-5d3be9b305fa"
   },
   "outputs": [
    {
     "data": {
      "text/html": [
       "\n",
       "  <div id=\"df-662c24a6-e4df-4c15-945a-845896fb9892\">\n",
       "    <div class=\"colab-df-container\">\n",
       "      <div>\n",
       "<style scoped>\n",
       "    .dataframe tbody tr th:only-of-type {\n",
       "        vertical-align: middle;\n",
       "    }\n",
       "\n",
       "    .dataframe tbody tr th {\n",
       "        vertical-align: top;\n",
       "    }\n",
       "\n",
       "    .dataframe thead th {\n",
       "        text-align: right;\n",
       "    }\n",
       "</style>\n",
       "<table border=\"1\" class=\"dataframe\">\n",
       "  <thead>\n",
       "    <tr style=\"text-align: right;\">\n",
       "      <th></th>\n",
       "      <th>Classifier</th>\n",
       "      <th>sequence Accuracy</th>\n",
       "    </tr>\n",
       "  </thead>\n",
       "  <tbody>\n",
       "    <tr>\n",
       "      <th>0</th>\n",
       "      <td>Linear SVC</td>\n",
       "      <td>0.62</td>\n",
       "    </tr>\n",
       "    <tr>\n",
       "      <th>1</th>\n",
       "      <td>Random Forest</td>\n",
       "      <td>0.8</td>\n",
       "    </tr>\n",
       "    <tr>\n",
       "      <th>2</th>\n",
       "      <td>Multinomial Naive Bayes</td>\n",
       "      <td>0.77</td>\n",
       "    </tr>\n",
       "    <tr>\n",
       "      <th>3</th>\n",
       "      <td>AdaBoost</td>\n",
       "      <td>0.69</td>\n",
       "    </tr>\n",
       "    <tr>\n",
       "      <th>4</th>\n",
       "      <td>XGBoost</td>\n",
       "      <td>0.76</td>\n",
       "    </tr>\n",
       "    <tr>\n",
       "      <th>5</th>\n",
       "      <td>Neural Network</td>\n",
       "      <td>0.74</td>\n",
       "    </tr>\n",
       "  </tbody>\n",
       "</table>\n",
       "</div>\n",
       "      <button class=\"colab-df-convert\" onclick=\"convertToInteractive('df-662c24a6-e4df-4c15-945a-845896fb9892')\"\n",
       "              title=\"Convert this dataframe to an interactive table.\"\n",
       "              style=\"display:none;\">\n",
       "        \n",
       "  <svg xmlns=\"http://www.w3.org/2000/svg\" height=\"24px\"viewBox=\"0 0 24 24\"\n",
       "       width=\"24px\">\n",
       "    <path d=\"M0 0h24v24H0V0z\" fill=\"none\"/>\n",
       "    <path d=\"M18.56 5.44l.94 2.06.94-2.06 2.06-.94-2.06-.94-.94-2.06-.94 2.06-2.06.94zm-11 1L8.5 8.5l.94-2.06 2.06-.94-2.06-.94L8.5 2.5l-.94 2.06-2.06.94zm10 10l.94 2.06.94-2.06 2.06-.94-2.06-.94-.94-2.06-.94 2.06-2.06.94z\"/><path d=\"M17.41 7.96l-1.37-1.37c-.4-.4-.92-.59-1.43-.59-.52 0-1.04.2-1.43.59L10.3 9.45l-7.72 7.72c-.78.78-.78 2.05 0 2.83L4 21.41c.39.39.9.59 1.41.59.51 0 1.02-.2 1.41-.59l7.78-7.78 2.81-2.81c.8-.78.8-2.07 0-2.86zM5.41 20L4 18.59l7.72-7.72 1.47 1.35L5.41 20z\"/>\n",
       "  </svg>\n",
       "      </button>\n",
       "      \n",
       "  <style>\n",
       "    .colab-df-container {\n",
       "      display:flex;\n",
       "      flex-wrap:wrap;\n",
       "      gap: 12px;\n",
       "    }\n",
       "\n",
       "    .colab-df-convert {\n",
       "      background-color: #E8F0FE;\n",
       "      border: none;\n",
       "      border-radius: 50%;\n",
       "      cursor: pointer;\n",
       "      display: none;\n",
       "      fill: #1967D2;\n",
       "      height: 32px;\n",
       "      padding: 0 0 0 0;\n",
       "      width: 32px;\n",
       "    }\n",
       "\n",
       "    .colab-df-convert:hover {\n",
       "      background-color: #E2EBFA;\n",
       "      box-shadow: 0px 1px 2px rgba(60, 64, 67, 0.3), 0px 1px 3px 1px rgba(60, 64, 67, 0.15);\n",
       "      fill: #174EA6;\n",
       "    }\n",
       "\n",
       "    [theme=dark] .colab-df-convert {\n",
       "      background-color: #3B4455;\n",
       "      fill: #D2E3FC;\n",
       "    }\n",
       "\n",
       "    [theme=dark] .colab-df-convert:hover {\n",
       "      background-color: #434B5C;\n",
       "      box-shadow: 0px 1px 3px 1px rgba(0, 0, 0, 0.15);\n",
       "      filter: drop-shadow(0px 1px 2px rgba(0, 0, 0, 0.3));\n",
       "      fill: #FFFFFF;\n",
       "    }\n",
       "  </style>\n",
       "\n",
       "      <script>\n",
       "        const buttonEl =\n",
       "          document.querySelector('#df-662c24a6-e4df-4c15-945a-845896fb9892 button.colab-df-convert');\n",
       "        buttonEl.style.display =\n",
       "          google.colab.kernel.accessAllowed ? 'block' : 'none';\n",
       "\n",
       "        async function convertToInteractive(key) {\n",
       "          const element = document.querySelector('#df-662c24a6-e4df-4c15-945a-845896fb9892');\n",
       "          const dataTable =\n",
       "            await google.colab.kernel.invokeFunction('convertToInteractive',\n",
       "                                                     [key], {});\n",
       "          if (!dataTable) return;\n",
       "\n",
       "          const docLinkHtml = 'Like what you see? Visit the ' +\n",
       "            '<a target=\"_blank\" href=https://colab.research.google.com/notebooks/data_table.ipynb>data table notebook</a>'\n",
       "            + ' to learn more about interactive tables.';\n",
       "          element.innerHTML = '';\n",
       "          dataTable['output_type'] = 'display_data';\n",
       "          await google.colab.output.renderOutput(dataTable, element);\n",
       "          const docLink = document.createElement('div');\n",
       "          docLink.innerHTML = docLinkHtml;\n",
       "          element.appendChild(docLink);\n",
       "        }\n",
       "      </script>\n",
       "    </div>\n",
       "  </div>\n",
       "  "
      ],
      "text/plain": [
       "                Classifier sequence Accuracy\n",
       "0               Linear SVC              0.62\n",
       "1            Random Forest               0.8\n",
       "2  Multinomial Naive Bayes              0.77\n",
       "3                 AdaBoost              0.69\n",
       "4                  XGBoost              0.76\n",
       "5           Neural Network              0.74"
      ]
     },
     "execution_count": 23,
     "metadata": {},
     "output_type": "execute_result"
    }
   ],
   "source": [
    "# Create classifier summary table\n",
    "\n",
    "models = ['Linear SVC', 'Random Forest', 'Multinomial Naive Bayes', \n",
    "                  'AdaBoost', 'XGBoost', 'Neural Network']\n",
    "\n",
    "seq_model_accs = [svm_seq_test_acc, rf_seq_test_acc, mnb_seq_test_acc, \n",
    "                    ada_seq_test_acc, xgb_seq_test_acc, nn_seq_test_acc]\n",
    "\n",
    "seq_model_summary = pd.DataFrame([models, seq_model_accs]).T\n",
    "\n",
    "seq_model_summary.columns = ['Classifier', 'sequence Accuracy']\n",
    "\n",
    "seq_model_summary"
   ]
  },
  {
   "cell_type": "markdown",
   "id": "3a0d1b17",
   "metadata": {
    "id": "3a0d1b17"
   },
   "source": [
    "Embedding TF-IDF & Random Forest"
   ]
  },
  {
   "cell_type": "code",
   "execution_count": 93,
   "id": "881bc898",
   "metadata": {
    "colab": {
     "base_uri": "https://localhost:8080/",
     "height": 122
    },
    "executionInfo": {
     "elapsed": 464,
     "status": "ok",
     "timestamp": 1654883835787,
     "user": {
      "displayName": "Bin Zhang",
      "userId": "18074978445655950259"
     },
     "user_tz": -120
    },
    "id": "881bc898",
    "outputId": "87b4b9b0-5134-48c4-d2ad-f5a097c27abd"
   },
   "outputs": [
    {
     "data": {
      "application/vnd.google.colaboratory.intrinsic+json": {
       "type": "string"
      },
      "text/plain": [
       "'nearly lgbtq people live south see shit shitting queer black man guise antisouthern great sincerity say go fuck n ok throwback susan b anthony reallysomethingjust okay den okay yall got enjoy anyway anyone articlesresources nonbinary folks innavigating combat arts please send waynnesp afab binary folks martial arts got ta believe people show us casteism folks dont talk enough shapes tech esp moments like oh way mark employees gon na burn hell thats convo black natives lead though antiblackness deadly impacts behind black people designed target got hip indigenous folks stories aliens seeing stories scattered across globeyeah methings need get better going map someone asks im big ass shoutout trans nonbinary folks followingnni wouldnt made without yall corner even knew ppl sounding alarm emergent strain fascist feminism since first wave yeah yeah brand new emerging everyone soooooo shocked food plus though awhile since jollof rice goodyeahhhhh yall dont want love yall want someone whose boundaries either optional entirely nonexistent specifically think lot one killers years later said something till wont stay dead also literally told partner yo bobby fish legitimately terrifying understand makes sense dont know become emotional yet allowing easily process express emotions goal long time dont think mind something helps ahhhh see see gon na say havent seen much thought wasbetterthan growth wonderful thing lol remembered exs immigration lawyer asked reason didnt work us due bisexual nnand defended got upsetits fine look indigenous folks nameless inspiration actually live daily life indigenous manner shepif basis calling paramilitary group im yawl weak asses already read belated response part thank suggestions like grown another fuller one different company like better im blanking name one good wait tweet missed omg thats exactly im talking feels like black media quiet backlash increasing queer visibility doubling heterosexuality amp art suffers result hope day filled affection kindness good foods thank im nonmonogamous relationship amazing partner romantic life wonderful regardless going forward yeah want stay way people dont make feel goodsafe issa go smh fucking defense currently tipsy catching weeks worth matches owe w number people emails return dms rough couple weeks go weekthis part hbcus literally begging support nothing blonde yt lady post wearing hbcu sweatshirt whole bunch folks didnt even go hbcu pull knives im tired like dont think antiblack means deserve exploited worker raise valid questions end goal labor movement would look like much popular support truly deserves looks like lil hobby gon na take backseat dont respect boundaries leavennsometimes even best intentions may take partner tries get right times actually dont set boundaries efficiently dont want play real violence transfemmes trans women face esp compunded hypervisibility face discourse lack nuance distressing meif never let partner influence self likely create major disconnections flexibility agreeableness big part creates ease sense togetherness relationships way left wide open smh yeah ultimately agree actually twitter many characters wanted stay familiar turf lolsooo basically group twitter running around telling light skinned black folks really black also running supporting mutual aid grift im shocked tell shocked nnps im really shocked discourse around feeling really icky apparently afab trans folks societal support ways amab trans folks dont according said discourse ihave problems actually seems like good deal nzs better response pandemic thanks indigenous folks thats going part context place west indian folks hip hop p well understood wld say yusss trust issues music videonot clinging conditional whiteness might chile nnnever forget oprah responsible tho stevie wonders superstition bangin halloween playlistugh sorry experience folks make habit target light skinned black folks attempt institute latin americanstyle racial categories us hopefully enough ppl block ignore fizzle within year two dropped offnnand hitting intensely stressed week nnthank much everyone helped outquicksand god quicksandnni wan na read deep dive many late movies tv shows used quicksand trope like budget thing firstly im bout binge tf seriesnnsecondly relatable sentiment especially similar bullies abs concerned chile someone grew part movement confused see folks engaging amp mind yet another example solely marxistworking class paradigms foreclose possibilities pf strugglethis meant mere presence nonwhite others living thriving nearby seen existential threat resulting vicious cycles historian philip deloria called defensive conquest quite literally funniest thing anyone ever said steal bit someone got mad bc called new zealand nearly white pointed population actually maōri accused trying silence black woman lol would love omg whole pitch black day winter bullshit birds fascinating mix utterly endearing stressful wild strong grief wild strong love wild much year given much happiness happiness coexists peacefully grief nnim happy still miss much wasnt talking thats screenshot tweet wanted make loosely related mostly separate point making didnt want pull since wasnt frankly agree dont need anyone calling conspiracy theorist lolsobbbits enough follow like respect beyond certain pointnnfor days whats important treat people im bored brilliant minds treat folks around like shit tired playedyawl put gotdang foot greens black eyed peas okay im disappointed lot coverage fails address many ways black folks created counterhistories spaces education literal centuries fatalism pieces starting grateima let brecht last word commentary sensibilities set people saying trans folks made gender tend believe absolutely made gender ideas like idea thing male brain female brain soooooo liiiiiiiiiiike h snnlook getting point folks openly arguing light skinned black folks dont experience social death besides understanding social death means basing blackness exclusive notion suffering really im currently reading books articles queer histories im keeping eye far havent seen much anything doesnt necessarily mean time might found yeti adore adore adore film forms digital photography absolutely peach theres way film esp instant film forces surrender creative process almost holy let im saying somehow time mention tacos dessert sucks teeth brb trying figure nonbinary terms woohaa give proper title know one twitter im subtweeting allofc takes shit ton organizing like fuck schools designed undermine enslave kids anyway crt stuff dont need lets educate ownfuck anyone builds kind house anywhere country honestly especially existing neighborhoods completely different architecture way get left nostalgia smhnot women menstrual cycles wont say againnnbut block mute itand apparently im closeted gay trans man top everything else ni would say report doesnt give fuck im making public record stalking libel okay anyone wants buy xmas gift hipped shirt even though havent started hormones yet ireally really want nnlinnentown thriving selfsustained black neighborhood full plumbers electricians construction workers beauticians destroyed make way university georgia according athensclarke county documents honestly probably least best handwashed know extra one two drip driesboth think would benefit thorough look ails preferably new angles even preferably angles grounded cisgender experience even though fear us targeted due queer deported one main aspects included successful application residency anime yet watch lol screenshot captures much thank sharing incredible work us yeah nawl thats literal hell lol please im trying suppress memories im really getting year like muay thai mma dont like ufc really lol one championship preferred promotionissa snake plant ima name cobra kai nnand yes gon na love next mileena gifted house love mileena oh greg tate wrote well wonder article trash lol wow literally convo mom earlier today feel like great recession left lot millennials w deep sense insecurity amp understanding scarce resources opportunities really see dont think bigoted means someone deserves unfair labor practices im going join picket line changes made overall report account though even blocked click little dots right hand corner copied pasted tweet anything else would like tell us boxtoxic relationship advice via yourdiagnonsense ig faves someone tell article bullshit know mean cant beat em find peace among way theater kid started panic looked like cole trouble getting chair ring way screamed saw reason amp anyone gon na talk abt predominance indian folks tech places coming upper caste backgrounds contributes wellboosting please help amazing writer singular intellect make im pissed show full brown skinned indigenous folks apparently breaks hollywoods brain im exhaustedthe way never never see anything sensual marvel film another reason im tired overrated ass disney movies jatella dem rting tweets called character assassinator correctly pointed mark cuban funded wear voice magazine im surprised think able get away lying folks publicly without repercussionsthe debate around wokeism white people participating extent black folks excised social circles civil society w minimal backlash thats really debating welpppppppppnnand also omg thank youuuuuuu thank hun means lot coming apparently called xenogenders sometimes really love humans perpetual evolution unbridled creativity thats light skinned black folks wtf talking aboutreminds folks dont give fuck hbcus white spelman student hits timeline nneither care black culture independent nonblacks get involved dontidk maybe lil friends didnt constantly lie gaslight brigade people online wouldnt worried possibilitynnthe hit dogs holler besides fact literally libel receipts admitted rping someone publicly blog screenshots linknnlike words mean things cant say shit like people dont like hey yall breaking partial twitter break early cause got hit unexpected bill could really use help im hoping raise towards end day nnnn ohhhh cool thank much fucking love gets breaks music industry uswish list items would include testosterone amp tattoos mens dress shirts ballstomper shoes gel nail polish full face masks look like eastern european demonsre drakes babynthe way lot go mixed race babies colorism app yet surprised drakes baby came lets know whole thing twitter thought exercise yall yall dont actually know many mixed race folks like weekends instead henny derby still also part exhaustion pointing violent amp oppressive society central oppressive violence society embedded notions like democracy freedom civilizationnthe way people think black afab folks particular cant say wretched violent behavior yessss randomly muttering scheming gnat returns regularly twitter break time save scheduled tweets catch wan na find look aew still go fuck big swole way wwe welcoming open transphobe back fold aew platforming amazing trans woman wrestler got booster shot yesterday got clinch today jeeesus god would pay much money film footage matches right one moments everything comes together moment momentboooooooosting put domestic abuse survivors memphis whewwww chiiiiiile bc dont wan na bring spirits wan na pick choose indigenous practices work inject christianized notion forgivenessredemption top disrespectful honestly tbh jimin actually bias started listening mixtape last year yoongi anyways chile crisis text line taking data people calling vulnerable moments selling info third partyn dont remember person blocked clearly good decision partnot saying drbys tweet wasnt annoying anything acting like certain subcultures actually might low hanging fruit butso one surprised got grabbedits often defines course comes major issues like safety abuse means dont ignore need balance sometimes necessary put partners needs front owntryna pull queerblind shit offset bigotry choke symphony dicks think actually kicked bi coded villain couple months ago omg im toootally trying tell omgntell science importantall chase men dont want livetweet reality show reruns eat hot chips liennno life doesnt matter tremaynetherapy doesnt work lying therapist belovedbell hooks femmephobia weakened work overall really quite tragic actually im much referring authors large followings runins actually directly rtd tweet earlier bc agree made think unpleasant experiences authors sorry didnt make clearer exactly scones lovely except idea thats eat also lets real ambiguous acting look bitchits hard wrap mind around trans person boiling people genitals likewaking serenading carol delicious ass dinner reminders today holiday feeling distinctly notchristmasy tbh im itfolks bitchmade though ie dedicated career pretending care black ppl actually caring black pplnplus secretly wan na win awards nit odd thing inhabit fluidity consider internal sense gender fairly stable static living thing entirely static black children still murdered slave patrols still finding mass graves indigenous children yall thought little johnny blue eyes classroom would spared constitutive national violence think sharon country folks found place ny got country niggas urban life isnt way living look ion know full backstory know annoying dealing folk wan na worry looking good vs focusing work beat ass lalaim mark new one im noticing im noticingtwirls xenogender transandrogyne tryna live xēr best life lololol hes also huge dumbass caught federal case stupid criminal existence boosting need support right donate boost cant group folks particular law nothing abstract theory im tired shit analysis shit behavior stance produces fantastic episode def top top everything else comedic banter oliver jeong rash chefs kissfull scene deliciously executed revengennonbinary folks dont owe anyone androgyny truennthat said im much looking forward serving nothing im tired mixedlight skinned black folks wailing black folks dont challenge blacknessthis nation selling children objects inception folks wan na scratch head puzzlement poorly nation treating children today cause harm quantifiable difference harms local fallacy appropriation leftist rhetoric signs bellwether many conservative movements gon na similar going forward like dynamics really uncomfortable even realized im trans especially thank anon donator helped lupita reach first goal everyone donated boosted might make goal sooner thought please keep circulatingni remember reading interview described fan coming showong bit hair ripped head previous show carried walletnni cant even imagine navigate kind traumahow imagine certain folks imagine logging onto twitter think one exhausting aspects current moment time many us centuries shouting country world oppressive death cult violently smacked proven undeniably rightbut another question first really think bts would gotten level without studying likes new editionnnbc less commentary commentary implicit devaluing black music pointtill yall right every attempt bypass us yet successful project misdisinfo fail tbh im place ppl known awhile support transition call sis girl im okay strangers referring also dont wan na anyones bronbut really love sib gnc folksnow waiting promotion platform transmasc fighter nonbinary fighter gender affirming hormone therapynnif one im missing let knowlike adamantxyves keeps going violence cis menwhile violent fuck black nonbinary folks black women meanwhile black cis men life hugely supportive ayyyyye happy birthday honey may continue grow ascend awl ways know every time bruno mars drops album whole bunch folks suddenly act like concerned sanctity rampbnni hope yall tuning shoulda dropped lollipop guild ass chile chile lem get coffee end dear white people movie tv show based ended main character crying white boyfriend trauma biracial walk sunset together idk yall expecting show runnershaving watched shes interacted black women especially app specifically ones anything kiss ass im surprised trajectoryso idk dry snitched author thread clear wasnt made screenshot save mentions annoyance using tweet riff slightly related mostly unrelated aspect authors w large social media feeling fellow black nb sends trans care package middle week dont even words thank thinking sharing achingly beautiful work usyo like see african folks bring frequently meant beachheads homesteads settler colonial expansion north america white men could lawfully exercise lethal violence indigenous people african slaves sure im today im gon na wear binder im mission lifetime one selfdetermination liberation trying save babylon want live way bones suitable fertilizer new world sooooo nwhats next month looking like understand came across way def intention appreciate reaching directlyincluding nonbinary folks conversation requires willingness acknowledge way currently categorize athletics need overhaul leagues need make accommodations nonbinary athletes already hereand also reason us writing really became multidisciplinary artists never thought criticism end offer greg tate city chock full real ones black ass tweet love thank support favorite local queer black nonbinary photographercuratortheoristloudmouthnnnnnnnphotography nblack art curation protections indigenous folks reach say government respects yall made year old happy mmmhmm plus knee issues since teen years thanks dance im getting back martial arts trying figure best way care ityou go far much technique sound discipline carries throughand forms believe consequences take unpopular w abolitionists mainly bc would offend sensibilities funders imhoi dont think body work good enough excuse unkind black people moving ways bring harm us collectively aint book world good enough make wrong right shit limited mixed racelight skinned black folks matter much wan na act speshul bout ready truly readytrans masc folks nonbinary folks also get pregnant fucked conservatives liberals allies moment nnand roe hasnt even fully gutted yet preliminary discourse yall alreadysighexcluding light skinned mixed race people definition blackness doesnt end anitblackness materially improve black folks lives ask dark skinned black folk brazil dont believe men relatable growing dance stuff makeup juuuust brown enough work part definitely less optionsthis terrible week abs im every moment pisces venus im looking forward transit first redskin first used north america caribbean south american native nations also used light skinned black folks well especially wan na talk whole narrative body useless prevalent education like thats bodies work also maybe thats plain old sexism also thank much checking hope well sibstill banger thread years later thinking topic today transphobes give cis women rapists abs pass'"
      ]
     },
     "execution_count": 93,
     "metadata": {},
     "output_type": "execute_result"
    }
   ],
   "source": [
    "tokenlist=[]\n",
    "for i in range(len(doc_processed)):\n",
    "    a=' '.join(doc_processed[i])\n",
    "    tokenlist.append(a)\n",
    "\n",
    "tokenlist[0] "
   ]
  },
  {
   "cell_type": "code",
   "execution_count": 94,
   "id": "b4c67e35",
   "metadata": {
    "colab": {
     "base_uri": "https://localhost:8080/"
    },
    "executionInfo": {
     "elapsed": 1227,
     "status": "ok",
     "timestamp": 1654883839619,
     "user": {
      "displayName": "Bin Zhang",
      "userId": "18074978445655950259"
     },
     "user_tz": -120
    },
    "id": "b4c67e35",
    "outputId": "4478470e-0ab4-4fc5-830f-43697ebc8e1c"
   },
   "outputs": [
    {
     "data": {
      "text/plain": [
       "TfidfVectorizer(max_features=1000)"
      ]
     },
     "execution_count": 94,
     "metadata": {},
     "output_type": "execute_result"
    }
   ],
   "source": [
    "tfIdfVec = TfidfVectorizer(max_features=1000)\n",
    "tfIdfVec.fit(tokenlist)"
   ]
  },
  {
   "cell_type": "code",
   "execution_count": 95,
   "id": "36607156",
   "metadata": {
    "executionInfo": {
     "elapsed": 393,
     "status": "ok",
     "timestamp": 1654883841406,
     "user": {
      "displayName": "Bin Zhang",
      "userId": "18074978445655950259"
     },
     "user_tz": -120
    },
    "id": "36607156"
   },
   "outputs": [],
   "source": [
    "tf_idf_x = tfIdfVec.transform(tokenlist)"
   ]
  },
  {
   "cell_type": "code",
   "execution_count": 96,
   "id": "b077622b",
   "metadata": {
    "executionInfo": {
     "elapsed": 1,
     "status": "ok",
     "timestamp": 1654883842581,
     "user": {
      "displayName": "Bin Zhang",
      "userId": "18074978445655950259"
     },
     "user_tz": -120
    },
    "id": "b077622b"
   },
   "outputs": [],
   "source": [
    "y = data['is_irony'].values\n",
    "\n",
    "X_train, X_test, y_train, y_test = train_test_split(tf_idf_x.todense(),y,test_size=0.2,random_state=1)"
   ]
  },
  {
   "cell_type": "markdown",
   "id": "ELsUVVGXEANT",
   "metadata": {
    "id": "ELsUVVGXEANT"
   },
   "source": [
    "Random Forest"
   ]
  },
  {
   "cell_type": "code",
   "execution_count": 46,
   "id": "36c76f8d",
   "metadata": {
    "colab": {
     "base_uri": "https://localhost:8080/"
    },
    "executionInfo": {
     "elapsed": 1819,
     "status": "ok",
     "timestamp": 1654875740817,
     "user": {
      "displayName": "Bin Zhang",
      "userId": "18074978445655950259"
     },
     "user_tz": -120
    },
    "id": "36c76f8d",
    "outputId": "f764e028-250a-4bae-dade-bcb5c3081c57"
   },
   "outputs": [
    {
     "name": "stderr",
     "output_type": "stream",
     "text": [
      "/usr/local/lib/python3.7/dist-packages/sklearn/utils/validation.py:598: FutureWarning: np.matrix usage is deprecated in 1.0 and will raise a TypeError in 1.2. Please convert to a numpy array with np.asarray. For more information see: https://numpy.org/doc/stable/reference/generated/numpy.matrix.html\n",
      "  FutureWarning,\n"
     ]
    },
    {
     "name": "stdout",
     "output_type": "stream",
     "text": [
      "accuracy:  0.8928571428571429\n",
      "              precision    recall  f1-score   support\n",
      "\n",
      "           0       0.95      0.84      0.89        43\n",
      "           1       0.85      0.95      0.90        41\n",
      "\n",
      "    accuracy                           0.89        84\n",
      "   macro avg       0.90      0.89      0.89        84\n",
      "weighted avg       0.90      0.89      0.89        84\n",
      "\n"
     ]
    },
    {
     "name": "stderr",
     "output_type": "stream",
     "text": [
      "/usr/local/lib/python3.7/dist-packages/sklearn/utils/validation.py:598: FutureWarning: np.matrix usage is deprecated in 1.0 and will raise a TypeError in 1.2. Please convert to a numpy array with np.asarray. For more information see: https://numpy.org/doc/stable/reference/generated/numpy.matrix.html\n",
      "  FutureWarning,\n"
     ]
    }
   ],
   "source": [
    "rfc = RandomForestClassifier(n_estimators=500,random_state=42)\n",
    "rfc.fit(X_train, y_train)\n",
    "preds = rfc.predict(X_test)\n",
    "print('accuracy: ', accuracy_score(y_test, preds))\n",
    "print(classification_report(y_test, preds))"
   ]
  },
  {
   "cell_type": "code",
   "execution_count": 49,
   "id": "kbwBnPTED81t",
   "metadata": {
    "colab": {
     "base_uri": "https://localhost:8080/"
    },
    "executionInfo": {
     "elapsed": 567,
     "status": "ok",
     "timestamp": 1654875770341,
     "user": {
      "displayName": "Bin Zhang",
      "userId": "18074978445655950259"
     },
     "user_tz": -120
    },
    "id": "kbwBnPTED81t",
    "outputId": "f3ae4aaf-a9ef-4c88-9ef3-ca3d7f3c35d1"
   },
   "outputs": [
    {
     "name": "stderr",
     "output_type": "stream",
     "text": [
      "/usr/local/lib/python3.7/dist-packages/sklearn/utils/validation.py:598: FutureWarning: np.matrix usage is deprecated in 1.0 and will raise a TypeError in 1.2. Please convert to a numpy array with np.asarray. For more information see: https://numpy.org/doc/stable/reference/generated/numpy.matrix.html\n",
      "  FutureWarning,\n",
      "/usr/local/lib/python3.7/dist-packages/sklearn/utils/validation.py:598: FutureWarning: np.matrix usage is deprecated in 1.0 and will raise a TypeError in 1.2. Please convert to a numpy array with np.asarray. For more information see: https://numpy.org/doc/stable/reference/generated/numpy.matrix.html\n",
      "  FutureWarning,\n"
     ]
    },
    {
     "data": {
      "text/plain": [
       "0.9"
      ]
     },
     "execution_count": 49,
     "metadata": {},
     "output_type": "execute_result"
    }
   ],
   "source": [
    "rf_tfidf = RandomForestClassifier(n_estimators=100, criterion='entropy',random_state=1)\n",
    "rf_tfidf.fit(X_train, y_train)\n",
    "y_hat_test = rf_tfidf.predict(X_test)\n",
    "rf_tfidf_test_acc = round(accuracy_score(y_test, y_hat_test), 2)\n",
    "rf_tfidf_test_acc"
   ]
  },
  {
   "cell_type": "markdown",
   "id": "7hn_Cl9-E3RY",
   "metadata": {
    "id": "7hn_Cl9-E3RY"
   },
   "source": [
    "LinearSVC Classifier"
   ]
  },
  {
   "cell_type": "code",
   "execution_count": 54,
   "id": "qjeppB29E173",
   "metadata": {
    "colab": {
     "base_uri": "https://localhost:8080/"
    },
    "executionInfo": {
     "elapsed": 239,
     "status": "ok",
     "timestamp": 1654875827072,
     "user": {
      "displayName": "Bin Zhang",
      "userId": "18074978445655950259"
     },
     "user_tz": -120
    },
    "id": "qjeppB29E173",
    "outputId": "eed7496f-e2fd-4dcb-82fa-676d615ba180"
   },
   "outputs": [
    {
     "name": "stderr",
     "output_type": "stream",
     "text": [
      "/usr/local/lib/python3.7/dist-packages/sklearn/utils/validation.py:598: FutureWarning: np.matrix usage is deprecated in 1.0 and will raise a TypeError in 1.2. Please convert to a numpy array with np.asarray. For more information see: https://numpy.org/doc/stable/reference/generated/numpy.matrix.html\n",
      "  FutureWarning,\n",
      "/usr/local/lib/python3.7/dist-packages/sklearn/utils/validation.py:598: FutureWarning: np.matrix usage is deprecated in 1.0 and will raise a TypeError in 1.2. Please convert to a numpy array with np.asarray. For more information see: https://numpy.org/doc/stable/reference/generated/numpy.matrix.html\n",
      "  FutureWarning,\n"
     ]
    },
    {
     "data": {
      "text/plain": [
       "0.94"
      ]
     },
     "execution_count": 54,
     "metadata": {},
     "output_type": "execute_result"
    }
   ],
   "source": [
    "# Instantiate classifier, fit, and predict on test data\n",
    "\n",
    "svm_tfidf = LinearSVC(random_state=1, max_iter=500)\n",
    "svm_tfidf.fit(X_train, y_train)\n",
    "y_hat_test = svm_tfidf.predict(X_test)\n",
    "svm_tfidf_test_acc = round(accuracy_score(y_test, y_hat_test), 2)\n",
    "svm_tfidf_test_acc"
   ]
  },
  {
   "cell_type": "markdown",
   "id": "crdCk688FMCJ",
   "metadata": {
    "id": "crdCk688FMCJ"
   },
   "source": [
    "Multinomial Naive Bayes Classifier"
   ]
  },
  {
   "cell_type": "code",
   "execution_count": null,
   "id": "K9vH1J5mKwF1",
   "metadata": {
    "colab": {
     "base_uri": "https://localhost:8080/"
    },
    "executionInfo": {
     "elapsed": 337,
     "status": "ok",
     "timestamp": 1654773237358,
     "user": {
      "displayName": "Bin Zhang",
      "userId": "18074978445655950259"
     },
     "user_tz": -120
    },
    "id": "K9vH1J5mKwF1",
    "outputId": "9e2f8d88-8ae9-4df8-db88-0f68f871bdf7"
   },
   "outputs": [
    {
     "name": "stderr",
     "output_type": "stream",
     "text": [
      "/usr/local/lib/python3.7/dist-packages/sklearn/utils/validation.py:598: FutureWarning: np.matrix usage is deprecated in 1.0 and will raise a TypeError in 1.2. Please convert to a numpy array with np.asarray. For more information see: https://numpy.org/doc/stable/reference/generated/numpy.matrix.html\n",
      "  FutureWarning,\n",
      "/usr/local/lib/python3.7/dist-packages/sklearn/utils/validation.py:598: FutureWarning: np.matrix usage is deprecated in 1.0 and will raise a TypeError in 1.2. Please convert to a numpy array with np.asarray. For more information see: https://numpy.org/doc/stable/reference/generated/numpy.matrix.html\n",
      "  FutureWarning,\n",
      "/usr/local/lib/python3.7/dist-packages/sklearn/utils/validation.py:598: FutureWarning: np.matrix usage is deprecated in 1.0 and will raise a TypeError in 1.2. Please convert to a numpy array with np.asarray. For more information see: https://numpy.org/doc/stable/reference/generated/numpy.matrix.html\n",
      "  FutureWarning,\n"
     ]
    }
   ],
   "source": [
    "scaler = MinMaxScaler()\n",
    "X_train_sc = scaler.fit_transform(X_train)\n",
    "X_test_sc = scaler.transform(X_test)"
   ]
  },
  {
   "cell_type": "code",
   "execution_count": null,
   "id": "YITSCXKaE13K",
   "metadata": {
    "id": "YITSCXKaE13K"
   },
   "outputs": [],
   "source": [
    "mnb_tfidf_clf = MultinomialNB()\n",
    "mnb_tfidf_clf.fit(X_train_sc, y_train)\n",
    "y_hat_test = mnb_tfidf_clf.predict(X_test_sc)"
   ]
  },
  {
   "cell_type": "code",
   "execution_count": null,
   "id": "Qnalu-DGE11G",
   "metadata": {
    "colab": {
     "base_uri": "https://localhost:8080/"
    },
    "executionInfo": {
     "elapsed": 2,
     "status": "ok",
     "timestamp": 1654773240694,
     "user": {
      "displayName": "Bin Zhang",
      "userId": "18074978445655950259"
     },
     "user_tz": -120
    },
    "id": "Qnalu-DGE11G",
    "outputId": "d7f3b649-428e-4a56-fb6f-a416be3f3104"
   },
   "outputs": [
    {
     "data": {
      "text/plain": [
       "0.89"
      ]
     },
     "execution_count": 33,
     "metadata": {},
     "output_type": "execute_result"
    }
   ],
   "source": [
    "mnb_tfidf_test_acc = round(accuracy_score(y_test, y_hat_test), 2)\n",
    "mnb_tfidf_test_acc"
   ]
  },
  {
   "cell_type": "markdown",
   "id": "gOZ640POF_xm",
   "metadata": {
    "id": "gOZ640POF_xm"
   },
   "source": [
    "AdaBoost Classifier"
   ]
  },
  {
   "cell_type": "code",
   "execution_count": 24,
   "id": "ebSncSuKE1yn",
   "metadata": {
    "colab": {
     "base_uri": "https://localhost:8080/"
    },
    "executionInfo": {
     "elapsed": 830,
     "status": "ok",
     "timestamp": 1654880896897,
     "user": {
      "displayName": "Bin Zhang",
      "userId": "18074978445655950259"
     },
     "user_tz": -120
    },
    "id": "ebSncSuKE1yn",
    "outputId": "c3b11d19-f518-43cd-c556-8430dcff6ac5"
   },
   "outputs": [
    {
     "name": "stderr",
     "output_type": "stream",
     "text": [
      "/usr/local/lib/python3.7/dist-packages/sklearn/utils/validation.py:598: FutureWarning: np.matrix usage is deprecated in 1.0 and will raise a TypeError in 1.2. Please convert to a numpy array with np.asarray. For more information see: https://numpy.org/doc/stable/reference/generated/numpy.matrix.html\n",
      "  FutureWarning,\n",
      "/usr/local/lib/python3.7/dist-packages/sklearn/utils/validation.py:598: FutureWarning: np.matrix usage is deprecated in 1.0 and will raise a TypeError in 1.2. Please convert to a numpy array with np.asarray. For more information see: https://numpy.org/doc/stable/reference/generated/numpy.matrix.html\n",
      "  FutureWarning,\n"
     ]
    },
    {
     "data": {
      "text/plain": [
       "0.87"
      ]
     },
     "execution_count": 24,
     "metadata": {},
     "output_type": "execute_result"
    }
   ],
   "source": [
    "ada_tfidf_clf = AdaBoostClassifier(n_estimators=50, random_state=1)\n",
    "ada_tfidf_clf.fit(X_train, y_train)\n",
    "y_hat_test = ada_tfidf_clf.predict(X_test)\n",
    "ada_tfidf_test_acc = round(accuracy_score(y_test, y_hat_test), 2)\n",
    "ada_tfidf_test_acc"
   ]
  },
  {
   "cell_type": "markdown",
   "id": "77oBe9D2GksA",
   "metadata": {
    "id": "77oBe9D2GksA"
   },
   "source": [
    "XGBoost Classifier"
   ]
  },
  {
   "cell_type": "code",
   "execution_count": null,
   "id": "T5N7uyfqE1u8",
   "metadata": {
    "colab": {
     "base_uri": "https://localhost:8080/"
    },
    "executionInfo": {
     "elapsed": 1839,
     "status": "ok",
     "timestamp": 1654773255516,
     "user": {
      "displayName": "Bin Zhang",
      "userId": "18074978445655950259"
     },
     "user_tz": -120
    },
    "id": "T5N7uyfqE1u8",
    "outputId": "5d8d6280-1c96-4ca8-f368-231fcae68d72"
   },
   "outputs": [
    {
     "data": {
      "text/plain": [
       "0.92"
      ]
     },
     "execution_count": 35,
     "metadata": {},
     "output_type": "execute_result"
    }
   ],
   "source": [
    "xgb_tfidf_clf = XGBClassifier(random_state=1)\n",
    "xgb_tfidf_clf.fit(X_train, y_train)\n",
    "y_hat_test = xgb_tfidf_clf.predict(X_test)\n",
    "\n",
    "xgb_tfidf_test_acc = round(accuracy_score(y_test, y_hat_test), 2)\n",
    "xgb_tfidf_test_acc"
   ]
  },
  {
   "cell_type": "markdown",
   "id": "70_-XXuKHL9Y",
   "metadata": {
    "id": "70_-XXuKHL9Y"
   },
   "source": [
    "Neural Network"
   ]
  },
  {
   "cell_type": "code",
   "execution_count": 98,
   "id": "rS-JfXkBHO_o",
   "metadata": {
    "colab": {
     "base_uri": "https://localhost:8080/"
    },
    "executionInfo": {
     "elapsed": 1061,
     "status": "ok",
     "timestamp": 1654884037997,
     "user": {
      "displayName": "Bin Zhang",
      "userId": "18074978445655950259"
     },
     "user_tz": -120
    },
    "id": "rS-JfXkBHO_o",
    "outputId": "c0894700-47a3-472c-a51e-6da2b63343f3"
   },
   "outputs": [
    {
     "name": "stdout",
     "output_type": "stream",
     "text": [
      "Epoch 1/9\n",
      "4/4 [==============================] - 0s 44ms/step - loss: 0.6663 - accuracy: 0.6280 - val_loss: 0.5914 - val_accuracy: 0.8810\n",
      "Epoch 2/9\n",
      "4/4 [==============================] - 0s 9ms/step - loss: 0.5562 - accuracy: 0.8423 - val_loss: 0.4930 - val_accuracy: 0.8929\n",
      "Epoch 3/9\n",
      "4/4 [==============================] - 0s 10ms/step - loss: 0.4601 - accuracy: 0.8631 - val_loss: 0.4078 - val_accuracy: 0.9167\n",
      "Epoch 4/9\n",
      "4/4 [==============================] - 0s 9ms/step - loss: 0.3850 - accuracy: 0.8810 - val_loss: 0.3467 - val_accuracy: 0.9167\n",
      "Epoch 5/9\n",
      "4/4 [==============================] - 0s 10ms/step - loss: 0.3144 - accuracy: 0.8958 - val_loss: 0.2960 - val_accuracy: 0.8929\n",
      "Epoch 6/9\n",
      "4/4 [==============================] - 0s 10ms/step - loss: 0.2711 - accuracy: 0.9077 - val_loss: 0.2672 - val_accuracy: 0.9405\n",
      "Epoch 7/9\n",
      "4/4 [==============================] - 0s 9ms/step - loss: 0.2297 - accuracy: 0.9315 - val_loss: 0.2487 - val_accuracy: 0.9524\n",
      "Epoch 8/9\n",
      "4/4 [==============================] - 0s 9ms/step - loss: 0.1982 - accuracy: 0.9405 - val_loss: 0.2227 - val_accuracy: 0.9405\n",
      "Epoch 9/9\n",
      "4/4 [==============================] - 0s 9ms/step - loss: 0.1725 - accuracy: 0.9464 - val_loss: 0.2128 - val_accuracy: 0.9405\n"
     ]
    },
    {
     "data": {
      "text/plain": [
       "<keras.callbacks.History at 0x7f07d21e3450>"
      ]
     },
     "execution_count": 98,
     "metadata": {},
     "output_type": "execute_result"
    }
   ],
   "source": [
    "model = Sequential()\n",
    "model.add(Dense(1000, input_dim=1000, activation='relu'))\n",
    "model.add(Dense(2, activation='softmax'))\n",
    "\n",
    "# Compile model\n",
    "\n",
    "model.compile(loss='sparse_categorical_crossentropy', optimizer='adam', \n",
    "              metrics=['accuracy'])\n",
    "\n",
    "# Fit to training data\n",
    "model.fit(X_train, y_train, epochs=9, batch_size=100, \n",
    "          validation_data=(X_test, y_test))"
   ]
  },
  {
   "cell_type": "code",
   "execution_count": 43,
   "id": "2wFGCd4qHO9L",
   "metadata": {
    "colab": {
     "base_uri": "https://localhost:8080/"
    },
    "executionInfo": {
     "elapsed": 389,
     "status": "ok",
     "timestamp": 1654881107818,
     "user": {
      "displayName": "Bin Zhang",
      "userId": "18074978445655950259"
     },
     "user_tz": -120
    },
    "id": "2wFGCd4qHO9L",
    "outputId": "97d755d8-dab6-426f-87e0-77e95e7a59d1"
   },
   "outputs": [
    {
     "data": {
      "text/plain": [
       "0.95"
      ]
     },
     "execution_count": 43,
     "metadata": {},
     "output_type": "execute_result"
    }
   ],
   "source": [
    "#Predictions\n",
    "y_hat_test = np.argmax(model.predict(X_test), axis=-1)\n",
    "nn_tfidf_test_acc = round(accuracy_score(y_test, y_hat_test), 2)\n",
    "nn_tfidf_test_acc"
   ]
  },
  {
   "cell_type": "markdown",
   "id": "GoteNcipGw8r",
   "metadata": {
    "id": "GoteNcipGw8r"
   },
   "source": [
    "Summary"
   ]
  },
  {
   "cell_type": "code",
   "execution_count": null,
   "id": "6iUdlp88E1s2",
   "metadata": {
    "colab": {
     "base_uri": "https://localhost:8080/",
     "height": 238
    },
    "executionInfo": {
     "elapsed": 310,
     "status": "ok",
     "timestamp": 1654773293406,
     "user": {
      "displayName": "Bin Zhang",
      "userId": "18074978445655950259"
     },
     "user_tz": -120
    },
    "id": "6iUdlp88E1s2",
    "outputId": "d3594f6e-c247-4584-e5b8-1a325c30c60e"
   },
   "outputs": [
    {
     "data": {
      "text/html": [
       "\n",
       "  <div id=\"df-2c6d1ab7-0429-4dde-a11b-da0de156cdd5\">\n",
       "    <div class=\"colab-df-container\">\n",
       "      <div>\n",
       "<style scoped>\n",
       "    .dataframe tbody tr th:only-of-type {\n",
       "        vertical-align: middle;\n",
       "    }\n",
       "\n",
       "    .dataframe tbody tr th {\n",
       "        vertical-align: top;\n",
       "    }\n",
       "\n",
       "    .dataframe thead th {\n",
       "        text-align: right;\n",
       "    }\n",
       "</style>\n",
       "<table border=\"1\" class=\"dataframe\">\n",
       "  <thead>\n",
       "    <tr style=\"text-align: right;\">\n",
       "      <th></th>\n",
       "      <th>Classifier</th>\n",
       "      <th>TF-IDF Accuracy</th>\n",
       "    </tr>\n",
       "  </thead>\n",
       "  <tbody>\n",
       "    <tr>\n",
       "      <th>0</th>\n",
       "      <td>Linear SVC</td>\n",
       "      <td>0.94</td>\n",
       "    </tr>\n",
       "    <tr>\n",
       "      <th>1</th>\n",
       "      <td>Random Forest</td>\n",
       "      <td>0.92</td>\n",
       "    </tr>\n",
       "    <tr>\n",
       "      <th>2</th>\n",
       "      <td>Multinomial Naive Bayes</td>\n",
       "      <td>0.89</td>\n",
       "    </tr>\n",
       "    <tr>\n",
       "      <th>3</th>\n",
       "      <td>AdaBoost</td>\n",
       "      <td>0.88</td>\n",
       "    </tr>\n",
       "    <tr>\n",
       "      <th>4</th>\n",
       "      <td>XGBoost</td>\n",
       "      <td>0.92</td>\n",
       "    </tr>\n",
       "    <tr>\n",
       "      <th>5</th>\n",
       "      <td>Neural Network</td>\n",
       "      <td>0.9</td>\n",
       "    </tr>\n",
       "  </tbody>\n",
       "</table>\n",
       "</div>\n",
       "      <button class=\"colab-df-convert\" onclick=\"convertToInteractive('df-2c6d1ab7-0429-4dde-a11b-da0de156cdd5')\"\n",
       "              title=\"Convert this dataframe to an interactive table.\"\n",
       "              style=\"display:none;\">\n",
       "        \n",
       "  <svg xmlns=\"http://www.w3.org/2000/svg\" height=\"24px\"viewBox=\"0 0 24 24\"\n",
       "       width=\"24px\">\n",
       "    <path d=\"M0 0h24v24H0V0z\" fill=\"none\"/>\n",
       "    <path d=\"M18.56 5.44l.94 2.06.94-2.06 2.06-.94-2.06-.94-.94-2.06-.94 2.06-2.06.94zm-11 1L8.5 8.5l.94-2.06 2.06-.94-2.06-.94L8.5 2.5l-.94 2.06-2.06.94zm10 10l.94 2.06.94-2.06 2.06-.94-2.06-.94-.94-2.06-.94 2.06-2.06.94z\"/><path d=\"M17.41 7.96l-1.37-1.37c-.4-.4-.92-.59-1.43-.59-.52 0-1.04.2-1.43.59L10.3 9.45l-7.72 7.72c-.78.78-.78 2.05 0 2.83L4 21.41c.39.39.9.59 1.41.59.51 0 1.02-.2 1.41-.59l7.78-7.78 2.81-2.81c.8-.78.8-2.07 0-2.86zM5.41 20L4 18.59l7.72-7.72 1.47 1.35L5.41 20z\"/>\n",
       "  </svg>\n",
       "      </button>\n",
       "      \n",
       "  <style>\n",
       "    .colab-df-container {\n",
       "      display:flex;\n",
       "      flex-wrap:wrap;\n",
       "      gap: 12px;\n",
       "    }\n",
       "\n",
       "    .colab-df-convert {\n",
       "      background-color: #E8F0FE;\n",
       "      border: none;\n",
       "      border-radius: 50%;\n",
       "      cursor: pointer;\n",
       "      display: none;\n",
       "      fill: #1967D2;\n",
       "      height: 32px;\n",
       "      padding: 0 0 0 0;\n",
       "      width: 32px;\n",
       "    }\n",
       "\n",
       "    .colab-df-convert:hover {\n",
       "      background-color: #E2EBFA;\n",
       "      box-shadow: 0px 1px 2px rgba(60, 64, 67, 0.3), 0px 1px 3px 1px rgba(60, 64, 67, 0.15);\n",
       "      fill: #174EA6;\n",
       "    }\n",
       "\n",
       "    [theme=dark] .colab-df-convert {\n",
       "      background-color: #3B4455;\n",
       "      fill: #D2E3FC;\n",
       "    }\n",
       "\n",
       "    [theme=dark] .colab-df-convert:hover {\n",
       "      background-color: #434B5C;\n",
       "      box-shadow: 0px 1px 3px 1px rgba(0, 0, 0, 0.15);\n",
       "      filter: drop-shadow(0px 1px 2px rgba(0, 0, 0, 0.3));\n",
       "      fill: #FFFFFF;\n",
       "    }\n",
       "  </style>\n",
       "\n",
       "      <script>\n",
       "        const buttonEl =\n",
       "          document.querySelector('#df-2c6d1ab7-0429-4dde-a11b-da0de156cdd5 button.colab-df-convert');\n",
       "        buttonEl.style.display =\n",
       "          google.colab.kernel.accessAllowed ? 'block' : 'none';\n",
       "\n",
       "        async function convertToInteractive(key) {\n",
       "          const element = document.querySelector('#df-2c6d1ab7-0429-4dde-a11b-da0de156cdd5');\n",
       "          const dataTable =\n",
       "            await google.colab.kernel.invokeFunction('convertToInteractive',\n",
       "                                                     [key], {});\n",
       "          if (!dataTable) return;\n",
       "\n",
       "          const docLinkHtml = 'Like what you see? Visit the ' +\n",
       "            '<a target=\"_blank\" href=https://colab.research.google.com/notebooks/data_table.ipynb>data table notebook</a>'\n",
       "            + ' to learn more about interactive tables.';\n",
       "          element.innerHTML = '';\n",
       "          dataTable['output_type'] = 'display_data';\n",
       "          await google.colab.output.renderOutput(dataTable, element);\n",
       "          const docLink = document.createElement('div');\n",
       "          docLink.innerHTML = docLinkHtml;\n",
       "          element.appendChild(docLink);\n",
       "        }\n",
       "      </script>\n",
       "    </div>\n",
       "  </div>\n",
       "  "
      ],
      "text/plain": [
       "                Classifier TF-IDF Accuracy\n",
       "0               Linear SVC            0.94\n",
       "1            Random Forest            0.92\n",
       "2  Multinomial Naive Bayes            0.89\n",
       "3                 AdaBoost            0.88\n",
       "4                  XGBoost            0.92\n",
       "5           Neural Network             0.9"
      ]
     },
     "execution_count": 43,
     "metadata": {},
     "output_type": "execute_result"
    }
   ],
   "source": [
    "# Create classifier summary table\n",
    "\n",
    "models = ['Linear SVC', 'Random Forest', 'Multinomial Naive Bayes', \n",
    "                  'AdaBoost', 'XGBoost', 'Neural Network']\n",
    "\n",
    "tfidf_model_accs = [svm_tfidf_test_acc, rf_tfidf_test_acc, mnb_tfidf_test_acc, \n",
    "                    ada_tfidf_test_acc, xgb_tfidf_test_acc, nn_tfidf_test_acc]\n",
    "\n",
    "tfidf_model_summary = pd.DataFrame([models, tfidf_model_accs]).T\n",
    "\n",
    "tfidf_model_summary.columns = ['Classifier', 'TF-IDF Accuracy']\n",
    "\n",
    "tfidf_model_summary"
   ]
  },
  {
   "cell_type": "markdown",
   "id": "huhQRDfHsFmH",
   "metadata": {
    "id": "huhQRDfHsFmH"
   },
   "source": [
    "Embedding GloVe"
   ]
  },
  {
   "cell_type": "code",
   "execution_count": 44,
   "id": "44e5ab4a",
   "metadata": {
    "colab": {
     "base_uri": "https://localhost:8080/"
    },
    "executionInfo": {
     "elapsed": 436,
     "status": "ok",
     "timestamp": 1654882961804,
     "user": {
      "displayName": "Bin Zhang",
      "userId": "18074978445655950259"
     },
     "user_tz": -120
    },
    "id": "44e5ab4a",
    "outputId": "bd803726-0d29-4ec3-bffb-b89b563e5b41"
   },
   "outputs": [
    {
     "name": "stdout",
     "output_type": "stream",
     "text": [
      "There are 102746 unique tokens in the dataset.\n"
     ]
    }
   ],
   "source": [
    "total_vocabulary = set(word for tweet in doc_processed for word in tweet)\n",
    "\n",
    "len(total_vocabulary)\n",
    "print('There are {} unique tokens in the dataset.'.format(\n",
    "    len(total_vocabulary)))"
   ]
  },
  {
   "cell_type": "code",
   "execution_count": 45,
   "id": "BDzc_aYRqjrZ",
   "metadata": {
    "executionInfo": {
     "elapsed": 8133,
     "status": "ok",
     "timestamp": 1654882988514,
     "user": {
      "displayName": "Bin Zhang",
      "userId": "18074978445655950259"
     },
     "user_tz": -120
    },
    "id": "BDzc_aYRqjrZ"
   },
   "outputs": [],
   "source": [
    "glove = {}\n",
    "with open(r'/content/drive/MyDrive/Language_processing/glove/glove.twitter.27B.50d.txt', 'rb') as f:\n",
    "    for line in f:\n",
    "        parts = line.split()\n",
    "        word = parts[0].decode('utf-8')\n",
    "        if word in total_vocabulary:\n",
    "            vector = np.array(parts[1:], dtype=np.float32)\n",
    "            glove[word] = vector"
   ]
  },
  {
   "cell_type": "code",
   "execution_count": 46,
   "id": "Ckt0cyqtqjob",
   "metadata": {
    "colab": {
     "base_uri": "https://localhost:8080/"
    },
    "executionInfo": {
     "elapsed": 5,
     "status": "ok",
     "timestamp": 1654882989760,
     "user": {
      "displayName": "Bin Zhang",
      "userId": "18074978445655950259"
     },
     "user_tz": -120
    },
    "id": "Ckt0cyqtqjob",
    "outputId": "53981e3a-3a90-4cbd-f651-cfab6bc8076e"
   },
   "outputs": [
    {
     "name": "stdout",
     "output_type": "stream",
     "text": [
      "50508 of 102746     tokens in dataset matched in GloVe and vectorized!\n"
     ]
    }
   ],
   "source": [
    "# Check length of glove dictionary relative to total words\n",
    "\n",
    "print(f'{len(glove)} of {len(total_vocabulary)} \\\n",
    "    tokens in dataset matched in GloVe and vectorized!')"
   ]
  },
  {
   "cell_type": "code",
   "execution_count": 47,
   "id": "uYPC8jnIqjmg",
   "metadata": {
    "executionInfo": {
     "elapsed": 444,
     "status": "ok",
     "timestamp": 1654882992218,
     "user": {
      "displayName": "Bin Zhang",
      "userId": "18074978445655950259"
     },
     "user_tz": -120
    },
    "id": "uYPC8jnIqjmg"
   },
   "outputs": [],
   "source": [
    "class W2vVectorizer(object):\n",
    "    \"\"\"Class to generate mean word embeddings from word vectors. This class is\n",
    "    quoted from Flatiron School Curriculum Learn.co Mod 4 appendix\"\"\"\n",
    "    def __init__(self, w2v):\n",
    "        # Takes in a dictionary of words and vectors as input\n",
    "        self.w2v = w2v\n",
    "        if len(w2v) == 0:\n",
    "            self.dimensions = 0\n",
    "        else:\n",
    "            self.dimensions = len(w2v[next(iter(glove))])\n",
    "    \n",
    "    # Note: Even though it doesn't do anything, \n",
    "    # it's required that this object implement a fit method or else\n",
    "    # it can't be used in a scikit-learn pipeline  \n",
    "    def fit(self, X, y):\n",
    "        return self\n",
    "            \n",
    "    def transform(self, X):\n",
    "        # X should be a series of lists of tokens\n",
    "        return np.array([\n",
    "            np.mean([self.w2v[w] for w in words if w in self.w2v]\n",
    "                   or [np.zeros(self.dimensions)], axis=0) for words in X])"
   ]
  },
  {
   "cell_type": "code",
   "execution_count": 48,
   "id": "R_8qhaQ7qjkj",
   "metadata": {
    "executionInfo": {
     "elapsed": 441,
     "status": "ok",
     "timestamp": 1654882996006,
     "user": {
      "displayName": "Bin Zhang",
      "userId": "18074978445655950259"
     },
     "user_tz": -120
    },
    "id": "R_8qhaQ7qjkj"
   },
   "outputs": [],
   "source": [
    "vectorizer = W2vVectorizer(glove)"
   ]
  },
  {
   "cell_type": "code",
   "execution_count": 49,
   "id": "6xVxE0y2qjiF",
   "metadata": {
    "executionInfo": {
     "elapsed": 712,
     "status": "ok",
     "timestamp": 1654882997755,
     "user": {
      "displayName": "Bin Zhang",
      "userId": "18074978445655950259"
     },
     "user_tz": -120
    },
    "id": "6xVxE0y2qjiF"
   },
   "outputs": [],
   "source": [
    "X_glove = vectorizer.transform(doc_processed)\n",
    "y = data['is_irony'].values"
   ]
  },
  {
   "cell_type": "code",
   "execution_count": 50,
   "id": "f7PIL33zqjdu",
   "metadata": {
    "executionInfo": {
     "elapsed": 4,
     "status": "ok",
     "timestamp": 1654882997756,
     "user": {
      "displayName": "Bin Zhang",
      "userId": "18074978445655950259"
     },
     "user_tz": -120
    },
    "id": "f7PIL33zqjdu"
   },
   "outputs": [],
   "source": [
    "X_train, X_test, y_train, y_test = train_test_split(X_glove, y, \n",
    "                                                    test_size=0.2, \n",
    "                                                    random_state=1)"
   ]
  },
  {
   "cell_type": "markdown",
   "id": "iilJXcDg25wL",
   "metadata": {
    "id": "iilJXcDg25wL"
   },
   "source": [
    "Random Forest"
   ]
  },
  {
   "cell_type": "code",
   "execution_count": 66,
   "id": "Po41UDe0qjba",
   "metadata": {
    "executionInfo": {
     "elapsed": 891,
     "status": "ok",
     "timestamp": 1654883201375,
     "user": {
      "displayName": "Bin Zhang",
      "userId": "18074978445655950259"
     },
     "user_tz": -120
    },
    "id": "Po41UDe0qjba"
   },
   "outputs": [],
   "source": [
    "rf_glove = RandomForestClassifier(n_estimators=200, criterion='gini',random_state=1)\n",
    "rf_glove.fit(X_train, y_train)\n",
    "y_hat_test = rf_glove.predict(X_test)"
   ]
  },
  {
   "cell_type": "code",
   "execution_count": 67,
   "id": "87Cw7WC6qjZc",
   "metadata": {
    "executionInfo": {
     "elapsed": 1,
     "status": "ok",
     "timestamp": 1654883202145,
     "user": {
      "displayName": "Bin Zhang",
      "userId": "18074978445655950259"
     },
     "user_tz": -120
    },
    "id": "87Cw7WC6qjZc"
   },
   "outputs": [],
   "source": [
    "rf_glove_test_acc = round(accuracy_score(y_test, y_hat_test), 2)"
   ]
  },
  {
   "cell_type": "code",
   "execution_count": 68,
   "id": "N2p4_UFsqjXX",
   "metadata": {
    "colab": {
     "base_uri": "https://localhost:8080/"
    },
    "executionInfo": {
     "elapsed": 5,
     "status": "ok",
     "timestamp": 1654883203276,
     "user": {
      "displayName": "Bin Zhang",
      "userId": "18074978445655950259"
     },
     "user_tz": -120
    },
    "id": "N2p4_UFsqjXX",
    "outputId": "949d781a-8505-4061-f5d1-77f8528692b4"
   },
   "outputs": [
    {
     "data": {
      "text/plain": [
       "0.92"
      ]
     },
     "execution_count": 68,
     "metadata": {},
     "output_type": "execute_result"
    }
   ],
   "source": [
    "rf_glove_test_acc"
   ]
  },
  {
   "cell_type": "code",
   "execution_count": null,
   "id": "M-YpjkCJqjU5",
   "metadata": {
    "colab": {
     "base_uri": "https://localhost:8080/"
    },
    "executionInfo": {
     "elapsed": 456,
     "status": "ok",
     "timestamp": 1654720591632,
     "user": {
      "displayName": "Bin Zhang",
      "userId": "18074978445655950259"
     },
     "user_tz": -120
    },
    "id": "M-YpjkCJqjU5",
    "outputId": "29e02018-af5e-47fb-f8f4-72cd23b1537a"
   },
   "outputs": [
    {
     "name": "stdout",
     "output_type": "stream",
     "text": [
      "accuracy:  0.9047619047619048\n",
      "              precision    recall  f1-score   support\n",
      "\n",
      "           0       0.93      0.88      0.90        43\n",
      "           1       0.88      0.93      0.90        41\n",
      "\n",
      "    accuracy                           0.90        84\n",
      "   macro avg       0.91      0.91      0.90        84\n",
      "weighted avg       0.91      0.90      0.90        84\n",
      "\n"
     ]
    }
   ],
   "source": [
    "print('accuracy: ', accuracy_score(y_test,y_hat_test))\n",
    "print(classification_report(y_test,y_hat_test))"
   ]
  },
  {
   "cell_type": "markdown",
   "id": "9mPMNJl23Haq",
   "metadata": {
    "id": "9mPMNJl23Haq"
   },
   "source": [
    "LinearSVC Classifier"
   ]
  },
  {
   "cell_type": "code",
   "execution_count": 77,
   "id": "aTKToLhZqjQv",
   "metadata": {
    "executionInfo": {
     "elapsed": 438,
     "status": "ok",
     "timestamp": 1654883292048,
     "user": {
      "displayName": "Bin Zhang",
      "userId": "18074978445655950259"
     },
     "user_tz": -120
    },
    "id": "aTKToLhZqjQv"
   },
   "outputs": [],
   "source": [
    "# Instantiate classifier, fit, and predict on test data\n",
    "\n",
    "svm_glove = LinearSVC(random_state=1, max_iter=500)\n",
    "svm_glove.fit(X_train, y_train)\n",
    "y_hat_test = svm_glove.predict(X_test)"
   ]
  },
  {
   "cell_type": "code",
   "execution_count": 78,
   "id": "HOSWH7NdqjOx",
   "metadata": {
    "colab": {
     "base_uri": "https://localhost:8080/"
    },
    "executionInfo": {
     "elapsed": 391,
     "status": "ok",
     "timestamp": 1654883293002,
     "user": {
      "displayName": "Bin Zhang",
      "userId": "18074978445655950259"
     },
     "user_tz": -120
    },
    "id": "HOSWH7NdqjOx",
    "outputId": "1fd1332f-1d5c-4744-b8ab-bcaf62ed35b1"
   },
   "outputs": [
    {
     "data": {
      "text/plain": [
       "0.89"
      ]
     },
     "execution_count": 78,
     "metadata": {},
     "output_type": "execute_result"
    }
   ],
   "source": [
    "svm_glove_test_acc = round(accuracy_score(y_test, y_hat_test), 2)\n",
    "svm_glove_test_acc"
   ]
  },
  {
   "cell_type": "markdown",
   "id": "XygpRenc1FCS",
   "metadata": {
    "id": "XygpRenc1FCS"
   },
   "source": [
    "Multinomial Naive Bayes Classifier "
   ]
  },
  {
   "cell_type": "code",
   "execution_count": null,
   "id": "C9GGCvaoqjMU",
   "metadata": {
    "id": "C9GGCvaoqjMU"
   },
   "outputs": [],
   "source": [
    "scaler = MinMaxScaler()\n",
    "X_train_sc = scaler.fit_transform(X_train)\n",
    "X_test_sc = scaler.transform(X_test)"
   ]
  },
  {
   "cell_type": "code",
   "execution_count": null,
   "id": "nq6gfAcgqjJ1",
   "metadata": {
    "id": "nq6gfAcgqjJ1"
   },
   "outputs": [],
   "source": [
    "mnb_glove_clf = MultinomialNB()\n",
    "mnb_glove_clf.fit(X_train_sc, y_train)\n",
    "y_hat_test = mnb_glove_clf.predict(X_test_sc)"
   ]
  },
  {
   "cell_type": "code",
   "execution_count": null,
   "id": "FUDyhNYxqjHj",
   "metadata": {
    "colab": {
     "base_uri": "https://localhost:8080/"
    },
    "executionInfo": {
     "elapsed": 2,
     "status": "ok",
     "timestamp": 1654773356839,
     "user": {
      "displayName": "Bin Zhang",
      "userId": "18074978445655950259"
     },
     "user_tz": -120
    },
    "id": "FUDyhNYxqjHj",
    "outputId": "943b7e45-8900-42ff-f6a7-5f58a0a018aa"
   },
   "outputs": [
    {
     "data": {
      "text/plain": [
       "0.64"
      ]
     },
     "execution_count": 58,
     "metadata": {},
     "output_type": "execute_result"
    }
   ],
   "source": [
    "# Evaluate classifier\n",
    "\n",
    "mnb_glove_test_acc = round(accuracy_score(y_test, y_hat_test), 2)\n",
    "mnb_glove_test_acc"
   ]
  },
  {
   "cell_type": "markdown",
   "id": "hSj3qAAc4Zyy",
   "metadata": {
    "id": "hSj3qAAc4Zyy"
   },
   "source": [
    "AdaBoost Classifier"
   ]
  },
  {
   "cell_type": "code",
   "execution_count": 83,
   "id": "KNsekQN3qjEP",
   "metadata": {
    "executionInfo": {
     "elapsed": 306,
     "status": "ok",
     "timestamp": 1654883366490,
     "user": {
      "displayName": "Bin Zhang",
      "userId": "18074978445655950259"
     },
     "user_tz": -120
    },
    "id": "KNsekQN3qjEP"
   },
   "outputs": [],
   "source": [
    "ada_glove_clf = AdaBoostClassifier(n_estimators=50, random_state=1)\n",
    "ada_glove_clf.fit(X_train, y_train)\n",
    "y_hat_test = ada_glove_clf.predict(X_test)"
   ]
  },
  {
   "cell_type": "code",
   "execution_count": 84,
   "id": "DBtt0669qjBc",
   "metadata": {
    "colab": {
     "base_uri": "https://localhost:8080/"
    },
    "executionInfo": {
     "elapsed": 2,
     "status": "ok",
     "timestamp": 1654883367137,
     "user": {
      "displayName": "Bin Zhang",
      "userId": "18074978445655950259"
     },
     "user_tz": -120
    },
    "id": "DBtt0669qjBc",
    "outputId": "87efb9bf-ef5b-49c3-a5b8-cc90672cc809"
   },
   "outputs": [
    {
     "data": {
      "text/plain": [
       "0.86"
      ]
     },
     "execution_count": 84,
     "metadata": {},
     "output_type": "execute_result"
    }
   ],
   "source": [
    "# Evaluate classifier\n",
    "\n",
    "ada_glove_test_acc = round(accuracy_score(y_test, y_hat_test), 2)\n",
    "ada_glove_test_acc"
   ]
  },
  {
   "cell_type": "markdown",
   "id": "4lzxXKEq4qt6",
   "metadata": {
    "id": "4lzxXKEq4qt6"
   },
   "source": [
    "XGBoost Classifier"
   ]
  },
  {
   "cell_type": "code",
   "execution_count": null,
   "id": "u8nRgkGz4bwf",
   "metadata": {
    "id": "u8nRgkGz4bwf"
   },
   "outputs": [],
   "source": [
    "xgb_glove_clf = XGBClassifier(random_state=1)\n",
    "xgb_glove_clf.fit(X_train, y_train)\n",
    "y_hat_test = xgb_glove_clf.predict(X_test)"
   ]
  },
  {
   "cell_type": "code",
   "execution_count": null,
   "id": "fVXZbgsH4buK",
   "metadata": {
    "colab": {
     "base_uri": "https://localhost:8080/"
    },
    "executionInfo": {
     "elapsed": 2,
     "status": "ok",
     "timestamp": 1654773360878,
     "user": {
      "displayName": "Bin Zhang",
      "userId": "18074978445655950259"
     },
     "user_tz": -120
    },
    "id": "fVXZbgsH4buK",
    "outputId": "25a79ce3-a71d-467c-c5b2-306eff19dec0"
   },
   "outputs": [
    {
     "data": {
      "text/plain": [
       "0.87"
      ]
     },
     "execution_count": 62,
     "metadata": {},
     "output_type": "execute_result"
    }
   ],
   "source": [
    "\n",
    "xgb_glove_test_acc = round(accuracy_score(y_test, y_hat_test), 2)\n",
    "xgb_glove_test_acc"
   ]
  },
  {
   "cell_type": "markdown",
   "id": "oHaF8m-N5QF6",
   "metadata": {
    "id": "oHaF8m-N5QF6"
   },
   "source": [
    "Neural Network LSTM"
   ]
  },
  {
   "cell_type": "code",
   "execution_count": 91,
   "id": "ATx3nzUZ5PvF",
   "metadata": {
    "colab": {
     "base_uri": "https://localhost:8080/"
    },
    "executionInfo": {
     "elapsed": 1705,
     "status": "ok",
     "timestamp": 1654883761728,
     "user": {
      "displayName": "Bin Zhang",
      "userId": "18074978445655950259"
     },
     "user_tz": -120
    },
    "id": "ATx3nzUZ5PvF",
    "outputId": "5da6859b-01b2-413b-b0ea-b0efc7dfa81a"
   },
   "outputs": [
    {
     "name": "stdout",
     "output_type": "stream",
     "text": [
      "Epoch 1/20\n",
      "6/6 [==============================] - 0s 29ms/step - loss: 0.6967 - accuracy: 0.5298 - val_loss: 0.6667 - val_accuracy: 0.5952\n",
      "Epoch 2/20\n",
      "6/6 [==============================] - 0s 7ms/step - loss: 0.6524 - accuracy: 0.5982 - val_loss: 0.6413 - val_accuracy: 0.6190\n",
      "Epoch 3/20\n",
      "6/6 [==============================] - 0s 7ms/step - loss: 0.6371 - accuracy: 0.6220 - val_loss: 0.6233 - val_accuracy: 0.5952\n",
      "Epoch 4/20\n",
      "6/6 [==============================] - 0s 6ms/step - loss: 0.6125 - accuracy: 0.6161 - val_loss: 0.6129 - val_accuracy: 0.6667\n",
      "Epoch 5/20\n",
      "6/6 [==============================] - 0s 6ms/step - loss: 0.6002 - accuracy: 0.6429 - val_loss: 0.5965 - val_accuracy: 0.6190\n",
      "Epoch 6/20\n",
      "6/6 [==============================] - 0s 7ms/step - loss: 0.5864 - accuracy: 0.6786 - val_loss: 0.5757 - val_accuracy: 0.6905\n",
      "Epoch 7/20\n",
      "6/6 [==============================] - 0s 6ms/step - loss: 0.5699 - accuracy: 0.6696 - val_loss: 0.5594 - val_accuracy: 0.6905\n",
      "Epoch 8/20\n",
      "6/6 [==============================] - 0s 6ms/step - loss: 0.5572 - accuracy: 0.6905 - val_loss: 0.5427 - val_accuracy: 0.7381\n",
      "Epoch 9/20\n",
      "6/6 [==============================] - 0s 7ms/step - loss: 0.5453 - accuracy: 0.7411 - val_loss: 0.5256 - val_accuracy: 0.7500\n",
      "Epoch 10/20\n",
      "6/6 [==============================] - 0s 7ms/step - loss: 0.5282 - accuracy: 0.7411 - val_loss: 0.5053 - val_accuracy: 0.7738\n",
      "Epoch 11/20\n",
      "6/6 [==============================] - 0s 6ms/step - loss: 0.5135 - accuracy: 0.7649 - val_loss: 0.4862 - val_accuracy: 0.7857\n",
      "Epoch 12/20\n",
      "6/6 [==============================] - 0s 6ms/step - loss: 0.5057 - accuracy: 0.7143 - val_loss: 0.4703 - val_accuracy: 0.7976\n",
      "Epoch 13/20\n",
      "6/6 [==============================] - 0s 6ms/step - loss: 0.4875 - accuracy: 0.7976 - val_loss: 0.4753 - val_accuracy: 0.8333\n",
      "Epoch 14/20\n",
      "6/6 [==============================] - 0s 6ms/step - loss: 0.4785 - accuracy: 0.7857 - val_loss: 0.4450 - val_accuracy: 0.7738\n",
      "Epoch 15/20\n",
      "6/6 [==============================] - 0s 6ms/step - loss: 0.4728 - accuracy: 0.7619 - val_loss: 0.4277 - val_accuracy: 0.8810\n",
      "Epoch 16/20\n",
      "6/6 [==============================] - 0s 6ms/step - loss: 0.4579 - accuracy: 0.8274 - val_loss: 0.4131 - val_accuracy: 0.8810\n",
      "Epoch 17/20\n",
      "6/6 [==============================] - 0s 6ms/step - loss: 0.4476 - accuracy: 0.7946 - val_loss: 0.4015 - val_accuracy: 0.8571\n",
      "Epoch 18/20\n",
      "6/6 [==============================] - 0s 6ms/step - loss: 0.4350 - accuracy: 0.8304 - val_loss: 0.3964 - val_accuracy: 0.8810\n",
      "Epoch 19/20\n",
      "6/6 [==============================] - 0s 6ms/step - loss: 0.4284 - accuracy: 0.8274 - val_loss: 0.3832 - val_accuracy: 0.8690\n",
      "Epoch 20/20\n",
      "6/6 [==============================] - 0s 7ms/step - loss: 0.4243 - accuracy: 0.8274 - val_loss: 0.3760 - val_accuracy: 0.8810\n"
     ]
    }
   ],
   "source": [
    "nn_glove = Sequential()\n",
    "nn_glove.add(Dense(1000, input_dim=50, activation='relu'))\n",
    "nn_glove.add(Dense(2, activation='softmax'))\n",
    "\n",
    "# compile the keras model\n",
    "\n",
    "nn_glove.compile(loss='sparse_categorical_crossentropy', optimizer='adam', \n",
    "                     metrics=['accuracy'])\n",
    "\n",
    "# fit the keras model on the dataset\n",
    "nn_glove.fit(X_train, y_train, epochs=20, batch_size=64, \n",
    "                 validation_data=(X_test, y_test))\n",
    "\n",
    "# Predict on test data\n",
    "\n",
    "y_hat_test = np.argmax(nn_glove.predict(X_test), axis=-1)"
   ]
  },
  {
   "cell_type": "code",
   "execution_count": 92,
   "id": "A3s1OZPi5PtT",
   "metadata": {
    "colab": {
     "base_uri": "https://localhost:8080/"
    },
    "executionInfo": {
     "elapsed": 315,
     "status": "ok",
     "timestamp": 1654883777925,
     "user": {
      "displayName": "Bin Zhang",
      "userId": "18074978445655950259"
     },
     "user_tz": -120
    },
    "id": "A3s1OZPi5PtT",
    "outputId": "ecb92ebe-164d-4214-e55c-36dab2ce1860"
   },
   "outputs": [
    {
     "data": {
      "text/plain": [
       "0.88"
      ]
     },
     "execution_count": 92,
     "metadata": {},
     "output_type": "execute_result"
    }
   ],
   "source": [
    "nn_glove_test_acc = round(accuracy_score(y_test, y_hat_test), 2)\n",
    "nn_glove_test_acc"
   ]
  },
  {
   "cell_type": "code",
   "execution_count": null,
   "id": "v9yewWAs4br6",
   "metadata": {
    "colab": {
     "base_uri": "https://localhost:8080/",
     "height": 238
    },
    "executionInfo": {
     "elapsed": 320,
     "status": "ok",
     "timestamp": 1654773425599,
     "user": {
      "displayName": "Bin Zhang",
      "userId": "18074978445655950259"
     },
     "user_tz": -120
    },
    "id": "v9yewWAs4br6",
    "outputId": "f6ab2fd3-545a-401e-d856-d55eed50ee3b"
   },
   "outputs": [
    {
     "data": {
      "text/html": [
       "\n",
       "  <div id=\"df-c634fc05-176c-4325-b598-30d405454c7d\">\n",
       "    <div class=\"colab-df-container\">\n",
       "      <div>\n",
       "<style scoped>\n",
       "    .dataframe tbody tr th:only-of-type {\n",
       "        vertical-align: middle;\n",
       "    }\n",
       "\n",
       "    .dataframe tbody tr th {\n",
       "        vertical-align: top;\n",
       "    }\n",
       "\n",
       "    .dataframe thead th {\n",
       "        text-align: right;\n",
       "    }\n",
       "</style>\n",
       "<table border=\"1\" class=\"dataframe\">\n",
       "  <thead>\n",
       "    <tr style=\"text-align: right;\">\n",
       "      <th></th>\n",
       "      <th>Classifier</th>\n",
       "      <th>GloVe Accuracy - 100d</th>\n",
       "    </tr>\n",
       "  </thead>\n",
       "  <tbody>\n",
       "    <tr>\n",
       "      <th>0</th>\n",
       "      <td>Linear SVC</td>\n",
       "      <td>0.89</td>\n",
       "    </tr>\n",
       "    <tr>\n",
       "      <th>1</th>\n",
       "      <td>Random Forest</td>\n",
       "      <td>0.9</td>\n",
       "    </tr>\n",
       "    <tr>\n",
       "      <th>2</th>\n",
       "      <td>Multinomial Naive Bayes</td>\n",
       "      <td>0.64</td>\n",
       "    </tr>\n",
       "    <tr>\n",
       "      <th>3</th>\n",
       "      <td>AdaBoost</td>\n",
       "      <td>0.82</td>\n",
       "    </tr>\n",
       "    <tr>\n",
       "      <th>4</th>\n",
       "      <td>XGBoost</td>\n",
       "      <td>0.87</td>\n",
       "    </tr>\n",
       "    <tr>\n",
       "      <th>5</th>\n",
       "      <td>Neural Network LSTM</td>\n",
       "      <td>0.63</td>\n",
       "    </tr>\n",
       "  </tbody>\n",
       "</table>\n",
       "</div>\n",
       "      <button class=\"colab-df-convert\" onclick=\"convertToInteractive('df-c634fc05-176c-4325-b598-30d405454c7d')\"\n",
       "              title=\"Convert this dataframe to an interactive table.\"\n",
       "              style=\"display:none;\">\n",
       "        \n",
       "  <svg xmlns=\"http://www.w3.org/2000/svg\" height=\"24px\"viewBox=\"0 0 24 24\"\n",
       "       width=\"24px\">\n",
       "    <path d=\"M0 0h24v24H0V0z\" fill=\"none\"/>\n",
       "    <path d=\"M18.56 5.44l.94 2.06.94-2.06 2.06-.94-2.06-.94-.94-2.06-.94 2.06-2.06.94zm-11 1L8.5 8.5l.94-2.06 2.06-.94-2.06-.94L8.5 2.5l-.94 2.06-2.06.94zm10 10l.94 2.06.94-2.06 2.06-.94-2.06-.94-.94-2.06-.94 2.06-2.06.94z\"/><path d=\"M17.41 7.96l-1.37-1.37c-.4-.4-.92-.59-1.43-.59-.52 0-1.04.2-1.43.59L10.3 9.45l-7.72 7.72c-.78.78-.78 2.05 0 2.83L4 21.41c.39.39.9.59 1.41.59.51 0 1.02-.2 1.41-.59l7.78-7.78 2.81-2.81c.8-.78.8-2.07 0-2.86zM5.41 20L4 18.59l7.72-7.72 1.47 1.35L5.41 20z\"/>\n",
       "  </svg>\n",
       "      </button>\n",
       "      \n",
       "  <style>\n",
       "    .colab-df-container {\n",
       "      display:flex;\n",
       "      flex-wrap:wrap;\n",
       "      gap: 12px;\n",
       "    }\n",
       "\n",
       "    .colab-df-convert {\n",
       "      background-color: #E8F0FE;\n",
       "      border: none;\n",
       "      border-radius: 50%;\n",
       "      cursor: pointer;\n",
       "      display: none;\n",
       "      fill: #1967D2;\n",
       "      height: 32px;\n",
       "      padding: 0 0 0 0;\n",
       "      width: 32px;\n",
       "    }\n",
       "\n",
       "    .colab-df-convert:hover {\n",
       "      background-color: #E2EBFA;\n",
       "      box-shadow: 0px 1px 2px rgba(60, 64, 67, 0.3), 0px 1px 3px 1px rgba(60, 64, 67, 0.15);\n",
       "      fill: #174EA6;\n",
       "    }\n",
       "\n",
       "    [theme=dark] .colab-df-convert {\n",
       "      background-color: #3B4455;\n",
       "      fill: #D2E3FC;\n",
       "    }\n",
       "\n",
       "    [theme=dark] .colab-df-convert:hover {\n",
       "      background-color: #434B5C;\n",
       "      box-shadow: 0px 1px 3px 1px rgba(0, 0, 0, 0.15);\n",
       "      filter: drop-shadow(0px 1px 2px rgba(0, 0, 0, 0.3));\n",
       "      fill: #FFFFFF;\n",
       "    }\n",
       "  </style>\n",
       "\n",
       "      <script>\n",
       "        const buttonEl =\n",
       "          document.querySelector('#df-c634fc05-176c-4325-b598-30d405454c7d button.colab-df-convert');\n",
       "        buttonEl.style.display =\n",
       "          google.colab.kernel.accessAllowed ? 'block' : 'none';\n",
       "\n",
       "        async function convertToInteractive(key) {\n",
       "          const element = document.querySelector('#df-c634fc05-176c-4325-b598-30d405454c7d');\n",
       "          const dataTable =\n",
       "            await google.colab.kernel.invokeFunction('convertToInteractive',\n",
       "                                                     [key], {});\n",
       "          if (!dataTable) return;\n",
       "\n",
       "          const docLinkHtml = 'Like what you see? Visit the ' +\n",
       "            '<a target=\"_blank\" href=https://colab.research.google.com/notebooks/data_table.ipynb>data table notebook</a>'\n",
       "            + ' to learn more about interactive tables.';\n",
       "          element.innerHTML = '';\n",
       "          dataTable['output_type'] = 'display_data';\n",
       "          await google.colab.output.renderOutput(dataTable, element);\n",
       "          const docLink = document.createElement('div');\n",
       "          docLink.innerHTML = docLinkHtml;\n",
       "          element.appendChild(docLink);\n",
       "        }\n",
       "      </script>\n",
       "    </div>\n",
       "  </div>\n",
       "  "
      ],
      "text/plain": [
       "                Classifier GloVe Accuracy - 100d\n",
       "0               Linear SVC                  0.89\n",
       "1            Random Forest                   0.9\n",
       "2  Multinomial Naive Bayes                  0.64\n",
       "3                 AdaBoost                  0.82\n",
       "4                  XGBoost                  0.87\n",
       "5      Neural Network LSTM                  0.63"
      ]
     },
     "execution_count": 67,
     "metadata": {},
     "output_type": "execute_result"
    }
   ],
   "source": [
    "# Create classifier summary table\n",
    "\n",
    "models = ['Linear SVC', 'Random Forest', 'Multinomial Naive Bayes', \n",
    "                  'AdaBoost', 'XGBoost', 'Neural Network LSTM']\n",
    "\n",
    "glove_model_accs = [svm_glove_test_acc, rf_glove_test_acc, mnb_glove_test_acc, \n",
    "                    ada_glove_test_acc, xgb_glove_test_acc, nn_glove_test_acc]\n",
    "\n",
    "glove_model_summary = pd.DataFrame([models, glove_model_accs]).T\n",
    "\n",
    "glove_model_summary.columns = ['Classifier', 'GloVe Accuracy - 100d']\n",
    "\n",
    "glove_model_summary"
   ]
  }
 ],
 "metadata": {
  "accelerator": "GPU",
  "colab": {
   "collapsed_sections": [],
   "machine_shape": "hm",
   "name": "Test_right.ipynb",
   "provenance": []
  },
  "kernelspec": {
   "display_name": "Python 3 (ipykernel)",
   "language": "python",
   "name": "python3"
  },
  "language_info": {
   "codemirror_mode": {
    "name": "ipython",
    "version": 3
   },
   "file_extension": ".py",
   "mimetype": "text/x-python",
   "name": "python",
   "nbconvert_exporter": "python",
   "pygments_lexer": "ipython3",
   "version": "3.7.0"
  }
 },
 "nbformat": 4,
 "nbformat_minor": 5
}
